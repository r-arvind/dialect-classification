{
 "cells": [
  {
   "cell_type": "code",
   "execution_count": 1,
   "metadata": {},
   "outputs": [],
   "source": [
    "import numpy as np\n",
    "import pandas as pd\n",
    "import IPython.display as ipd\n",
    "import scipy.io.wavfile as wav\n",
    "from scipy.fftpack import dct\n",
    "from zipfile import ZipFile\n",
    "import matplotlib.pyplot as plt\n",
    "from scipy.stats import skew\n",
    "import os,glob\n",
    "from sklearn.model_selection import train_test_split\n",
    "from sklearn.svm import SVC\n",
    "from sklearn.preprocessing import StandardScaler\n",
    "from sklearn.linear_model import LogisticRegression\n",
    "from sklearn.neighbors import KNeighborsClassifier\n",
    "from sklearn.metrics import confusion_matrix"
   ]
  },
  {
   "cell_type": "markdown",
   "metadata": {},
   "source": [
    "#### The function below returns a dataframe containing all file paths and their corresponding label"
   ]
  },
  {
   "cell_type": "code",
   "execution_count": 2,
   "metadata": {},
   "outputs": [],
   "source": [
    "def generate_path(base_path):\n",
    "    temp = []\n",
    "    for types in dialects: \n",
    "        df = pd.DataFrame()\n",
    "        base_dir = base_path + str(types)\n",
    "        files = glob.glob(base_dir+'/*.wav')\n",
    "        y = [types]*len(files)\n",
    "        df[\"FILE\"] = files\n",
    "        df[\"OUTPUT\"] = y\n",
    "        temp.append(df)\n",
    "    return pd.concat(temp).reset_index(drop=True)"
   ]
  },
  {
   "cell_type": "code",
   "execution_count": 3,
   "metadata": {},
   "outputs": [],
   "source": [
    "def generate_audio_frames(fs,audio,frameSize,frameOverlap):\n",
    "    frameLen, frameLap = int(round(fs*frameSize)), int(round(fs*frameOverlap))\n",
    "    audioLen = len(audio)\n",
    "    paddingLen = frameLap - (audioLen - frameLen) % frameLap #making number of frames even\n",
    "    paddedAudio = np.concatenate((audio, np.zeros(paddingLen)), axis = 0)\n",
    "    audioLen = len(paddedAudio)\n",
    "    numberOfFrames = int(np.floor((audioLen - frameLen)/frameLap) + 1)\n",
    "    indices = np.tile(np.arange(0, frameLen), (numberOfFrames, 1)) + np.tile((np.arange(0, numberOfFrames*frameLap, frameLap)), (frameLen, 1)).T\n",
    "    frames = paddedAudio[indices]\n",
    "    return frames, frameLen"
   ]
  },
  {
   "cell_type": "code",
   "execution_count": 4,
   "metadata": {},
   "outputs": [],
   "source": [
    "def apply_hamming(frames,frameLen):\n",
    "    frames = frames * np.hamming(frameLen)\n",
    "    return frames"
   ]
  },
  {
   "cell_type": "code",
   "execution_count": 5,
   "metadata": {},
   "outputs": [],
   "source": [
    "def power_spectrum(frames, nfft):\n",
    "    mag_frames = np.absolute(np.fft.rfft(frames, nfft))  # Magnitude of the FFT\n",
    "    pow_frames = np.square(mag_frames)/nfft  # Power Spectrum\n",
    "    return pow_frames"
   ]
  },
  {
   "cell_type": "code",
   "execution_count": 6,
   "metadata": {},
   "outputs": [],
   "source": [
    "def generate_filter_bank(fs,num_banks,nfft):\n",
    "    \n",
    "    hz_to_mel = lambda x: (2595 * np.log10(1 + (x / 2) / 700))\n",
    "    mel_to_hz = lambda x: (700*(np.power(10, x/2595) - 1))\n",
    "    \n",
    "    lower_mel = 0\n",
    "    upper_mel = hz_to_mel(fs)\n",
    "    mel_points = np.linspace(lower_mel, upper_mel, num_banks + 2)\n",
    "    hz_points = mel_to_hz(mel_points)\n",
    "    bins = np.floor((nfft + 1) * hz_points/fs)\n",
    "    \n",
    "    fbank = np.zeros((num_banks, int(np.floor(nfft/2 + 1))))\n",
    "    for m in range(1, num_banks + 1):\n",
    "        left = int(bins[m - 1])\n",
    "        center = int(bins[m])\n",
    "        right = int(bins[m + 1])\n",
    "        for k in range(left, center):\n",
    "            fbank[m - 1, k] = (k - bins[m - 1])/(bins[m] - bins[m - 1])\n",
    "        for k in range(center, right):\n",
    "            fbank[m - 1, k] = (bins[m + 1] - k)/(bins[m + 1] - bins[m])\n",
    "    return fbank"
   ]
  },
  {
   "cell_type": "code",
   "execution_count": 7,
   "metadata": {},
   "outputs": [],
   "source": [
    "def apply_filter_banks(power_frames,fbank):\n",
    "    filter_banks = np.dot(power_frames, fbank.T)\n",
    "    #for numerical stability\n",
    "    filter_banks = np.where(filter_banks == 0, np.finfo(float).eps, filter_banks) #if condition is true, return eps, else return original val\n",
    "    filter_banks = 20*np.log10(filter_banks)\n",
    "    return filter_banks"
   ]
  },
  {
   "cell_type": "code",
   "execution_count": 8,
   "metadata": {},
   "outputs": [],
   "source": [
    "def generate_mfcc(filterBanks,num_ceps):\n",
    "    mfcc = dct(filterBanks, type = 2, axis = 1, norm = 'ortho')[:, 1:(num_ceps + 1)]\n",
    "    return mfcc  "
   ]
  },
  {
   "cell_type": "code",
   "execution_count": 9,
   "metadata": {},
   "outputs": [],
   "source": [
    "def audio_feature_extraction(audio_path,frameLen,frameOverlap,nfft,num_fbanks,num_ceps):\n",
    "    fs, audio = wav.read(audio_path)\n",
    "    frm,frmlen = generate_audio_frames(fs,audio,frameLen,frameOverlap)\n",
    "    frm = apply_hamming(frm,frmlen)\n",
    "    pow_frm = power_spectrum(frm,nfft)\n",
    "    fbank = generate_filter_bank(fs,num_fbanks,nfft)\n",
    "    filter_banks = apply_filter_banks(pow_frm,fbank)\n",
    "    mfcc = generate_mfcc(filter_banks,num_ceps)\n",
    "    return mfcc"
   ]
  },
  {
   "cell_type": "code",
   "execution_count": 10,
   "metadata": {},
   "outputs": [],
   "source": [
    "framelength = 0.025\n",
    "frameoverlap = 0.015\n",
    "nfft = 512\n",
    "num_fbanks = 40\n",
    "num_ceps = 20\n",
    "N = 2\n",
    "dialects = [1,2,3,4,5,6,7,8,9]\n",
    "dataset_path = \"dataset/IDR\""
   ]
  },
  {
   "cell_type": "code",
   "execution_count": 11,
   "metadata": {},
   "outputs": [
    {
     "data": {
      "text/html": [
       "<div>\n",
       "<style scoped>\n",
       "    .dataframe tbody tr th:only-of-type {\n",
       "        vertical-align: middle;\n",
       "    }\n",
       "\n",
       "    .dataframe tbody tr th {\n",
       "        vertical-align: top;\n",
       "    }\n",
       "\n",
       "    .dataframe thead th {\n",
       "        text-align: right;\n",
       "    }\n",
       "</style>\n",
       "<table border=\"1\" class=\"dataframe\">\n",
       "  <thead>\n",
       "    <tr style=\"text-align: right;\">\n",
       "      <th></th>\n",
       "      <th>FILE</th>\n",
       "      <th>OUTPUT</th>\n",
       "    </tr>\n",
       "  </thead>\n",
       "  <tbody>\n",
       "    <tr>\n",
       "      <th>598</th>\n",
       "      <td>dataset/IDR9/21.wav</td>\n",
       "      <td>9</td>\n",
       "    </tr>\n",
       "    <tr>\n",
       "      <th>599</th>\n",
       "      <td>dataset/IDR9/11.wav</td>\n",
       "      <td>9</td>\n",
       "    </tr>\n",
       "    <tr>\n",
       "      <th>600</th>\n",
       "      <td>dataset/IDR9/17.wav</td>\n",
       "      <td>9</td>\n",
       "    </tr>\n",
       "    <tr>\n",
       "      <th>601</th>\n",
       "      <td>dataset/IDR9/65.wav</td>\n",
       "      <td>9</td>\n",
       "    </tr>\n",
       "    <tr>\n",
       "      <th>602</th>\n",
       "      <td>dataset/IDR9/14.wav</td>\n",
       "      <td>9</td>\n",
       "    </tr>\n",
       "  </tbody>\n",
       "</table>\n",
       "</div>"
      ],
      "text/plain": [
       "                    FILE  OUTPUT\n",
       "598  dataset/IDR9/21.wav       9\n",
       "599  dataset/IDR9/11.wav       9\n",
       "600  dataset/IDR9/17.wav       9\n",
       "601  dataset/IDR9/65.wav       9\n",
       "602  dataset/IDR9/14.wav       9"
      ]
     },
     "execution_count": 11,
     "metadata": {},
     "output_type": "execute_result"
    }
   ],
   "source": [
    "dataset = generate_path(dataset_path)\n",
    "dataset.tail()"
   ]
  },
  {
   "cell_type": "code",
   "execution_count": 12,
   "metadata": {},
   "outputs": [],
   "source": [
    "num = 0\n",
    "test = dataset[\"FILE\"][num]\n",
    "mfcc = audio_feature_extraction(test,framelength,frameoverlap,nfft,num_fbanks,num_ceps)"
   ]
  },
  {
   "cell_type": "code",
   "execution_count": 13,
   "metadata": {},
   "outputs": [
    {
     "name": "stdout",
     "output_type": "stream",
     "text": [
      "20\n"
     ]
    },
    {
     "data": {
      "text/plain": [
       "(603, 2)"
      ]
     },
     "execution_count": 13,
     "metadata": {},
     "output_type": "execute_result"
    }
   ],
   "source": [
    "print(len(mfcc[0]))\n",
    "dataset.shape"
   ]
  },
  {
   "cell_type": "code",
   "execution_count": 14,
   "metadata": {},
   "outputs": [],
   "source": [
    "features = {\n",
    "    \"mean\" : lambda x: np.mean(x,axis=0),\n",
    "    \"min\" : lambda x: np.min(x,axis=0),\n",
    "    \"max\" : lambda x: np.max(x,axis=0),\n",
    "    \"std_dev\" : lambda x: np.std(x,axis=0),\n",
    "    \"median\" : lambda x: np.median(x,axis=0)\n",
    "}"
   ]
  },
  {
   "cell_type": "code",
   "execution_count": 15,
   "metadata": {},
   "outputs": [],
   "source": [
    "def generate_model_data(df,size=100):\n",
    "    df = df.sample(frac=1).reset_index(drop=True)\n",
    "    col = []\n",
    "    y = []\n",
    "    for key in features.keys():\n",
    "        for i in range(1,num_ceps+1):\n",
    "            col.append(key + str(i))\n",
    "    rows = []\n",
    "    for index, row in df.iterrows():\n",
    "        if(index<size):\n",
    "            temp = []\n",
    "            y.append(row[\"OUTPUT\"])\n",
    "            path = row[\"FILE\"]\n",
    "            mfcc = audio_feature_extraction(path,framelength,frameoverlap,nfft,num_fbanks,num_ceps)\n",
    "            for key in features.keys():\n",
    "                temp.append(features[key](mfcc))\n",
    "            rows.append(np.concatenate(temp))\n",
    "        else:\n",
    "            break\n",
    "    feat = pd.DataFrame(rows)\n",
    "    feat.columns = col\n",
    "    feat[\"OUTPUT\"] = y\n",
    "    return feat"
   ]
  },
  {
   "cell_type": "code",
   "execution_count": 16,
   "metadata": {},
   "outputs": [],
   "source": [
    "df = generate_model_data(dataset,602)"
   ]
  },
  {
   "cell_type": "code",
   "execution_count": 17,
   "metadata": {},
   "outputs": [
    {
     "data": {
      "text/plain": [
       "(602, 101)"
      ]
     },
     "execution_count": 17,
     "metadata": {},
     "output_type": "execute_result"
    }
   ],
   "source": [
    "df.shape"
   ]
  },
  {
   "cell_type": "code",
   "execution_count": 18,
   "metadata": {
    "scrolled": true
   },
   "outputs": [
    {
     "data": {
      "text/html": [
       "<div>\n",
       "<style scoped>\n",
       "    .dataframe tbody tr th:only-of-type {\n",
       "        vertical-align: middle;\n",
       "    }\n",
       "\n",
       "    .dataframe tbody tr th {\n",
       "        vertical-align: top;\n",
       "    }\n",
       "\n",
       "    .dataframe thead th {\n",
       "        text-align: right;\n",
       "    }\n",
       "</style>\n",
       "<table border=\"1\" class=\"dataframe\">\n",
       "  <thead>\n",
       "    <tr style=\"text-align: right;\">\n",
       "      <th></th>\n",
       "      <th>mean1</th>\n",
       "      <th>mean2</th>\n",
       "      <th>mean3</th>\n",
       "      <th>mean4</th>\n",
       "      <th>mean5</th>\n",
       "      <th>mean6</th>\n",
       "      <th>mean7</th>\n",
       "      <th>mean8</th>\n",
       "      <th>mean9</th>\n",
       "      <th>mean10</th>\n",
       "      <th>...</th>\n",
       "      <th>min12</th>\n",
       "      <th>min13</th>\n",
       "      <th>min14</th>\n",
       "      <th>min15</th>\n",
       "      <th>min16</th>\n",
       "      <th>min17</th>\n",
       "      <th>min18</th>\n",
       "      <th>min19</th>\n",
       "      <th>min20</th>\n",
       "      <th>OUTPUT</th>\n",
       "    </tr>\n",
       "  </thead>\n",
       "  <tbody>\n",
       "    <tr>\n",
       "      <th>0</th>\n",
       "      <td>66.086669</td>\n",
       "      <td>0.198296</td>\n",
       "      <td>30.898380</td>\n",
       "      <td>-4.170796</td>\n",
       "      <td>1.596260</td>\n",
       "      <td>-0.064109</td>\n",
       "      <td>-7.124103</td>\n",
       "      <td>-5.956473</td>\n",
       "      <td>-5.409780</td>\n",
       "      <td>-7.108311</td>\n",
       "      <td>...</td>\n",
       "      <td>-50.365220</td>\n",
       "      <td>-32.806211</td>\n",
       "      <td>-53.881973</td>\n",
       "      <td>-40.479408</td>\n",
       "      <td>-30.295574</td>\n",
       "      <td>-31.169916</td>\n",
       "      <td>-34.386232</td>\n",
       "      <td>-28.733823</td>\n",
       "      <td>-24.153801</td>\n",
       "      <td>4</td>\n",
       "    </tr>\n",
       "    <tr>\n",
       "      <th>1</th>\n",
       "      <td>69.041378</td>\n",
       "      <td>14.241436</td>\n",
       "      <td>12.000823</td>\n",
       "      <td>-21.880788</td>\n",
       "      <td>-11.148848</td>\n",
       "      <td>-20.552939</td>\n",
       "      <td>-5.732968</td>\n",
       "      <td>-7.608625</td>\n",
       "      <td>0.753778</td>\n",
       "      <td>-10.144051</td>\n",
       "      <td>...</td>\n",
       "      <td>-42.601305</td>\n",
       "      <td>-45.104760</td>\n",
       "      <td>-38.966505</td>\n",
       "      <td>-27.027522</td>\n",
       "      <td>-33.504219</td>\n",
       "      <td>-27.548855</td>\n",
       "      <td>-31.815561</td>\n",
       "      <td>-40.243146</td>\n",
       "      <td>-33.785957</td>\n",
       "      <td>7</td>\n",
       "    </tr>\n",
       "    <tr>\n",
       "      <th>2</th>\n",
       "      <td>123.653986</td>\n",
       "      <td>39.709511</td>\n",
       "      <td>23.365612</td>\n",
       "      <td>14.806894</td>\n",
       "      <td>-10.045336</td>\n",
       "      <td>-11.356823</td>\n",
       "      <td>-10.249868</td>\n",
       "      <td>-16.601711</td>\n",
       "      <td>-4.978503</td>\n",
       "      <td>-11.390744</td>\n",
       "      <td>...</td>\n",
       "      <td>-37.643174</td>\n",
       "      <td>-39.219701</td>\n",
       "      <td>-41.962894</td>\n",
       "      <td>-51.070393</td>\n",
       "      <td>-38.965362</td>\n",
       "      <td>-32.662242</td>\n",
       "      <td>-37.837483</td>\n",
       "      <td>-36.756760</td>\n",
       "      <td>-23.036005</td>\n",
       "      <td>2</td>\n",
       "    </tr>\n",
       "    <tr>\n",
       "      <th>3</th>\n",
       "      <td>100.008416</td>\n",
       "      <td>25.510261</td>\n",
       "      <td>29.532417</td>\n",
       "      <td>-0.194424</td>\n",
       "      <td>-4.279923</td>\n",
       "      <td>-11.279927</td>\n",
       "      <td>-5.119383</td>\n",
       "      <td>-6.071043</td>\n",
       "      <td>-5.023423</td>\n",
       "      <td>2.542780</td>\n",
       "      <td>...</td>\n",
       "      <td>-37.927276</td>\n",
       "      <td>-35.898373</td>\n",
       "      <td>-41.112821</td>\n",
       "      <td>-32.072889</td>\n",
       "      <td>-29.973888</td>\n",
       "      <td>-30.491536</td>\n",
       "      <td>-21.509400</td>\n",
       "      <td>-17.090042</td>\n",
       "      <td>-21.194056</td>\n",
       "      <td>8</td>\n",
       "    </tr>\n",
       "    <tr>\n",
       "      <th>4</th>\n",
       "      <td>116.206575</td>\n",
       "      <td>47.207471</td>\n",
       "      <td>35.811250</td>\n",
       "      <td>7.430382</td>\n",
       "      <td>-18.368141</td>\n",
       "      <td>-19.419462</td>\n",
       "      <td>-9.812592</td>\n",
       "      <td>-11.638624</td>\n",
       "      <td>-4.680089</td>\n",
       "      <td>2.536189</td>\n",
       "      <td>...</td>\n",
       "      <td>-38.619421</td>\n",
       "      <td>-33.813019</td>\n",
       "      <td>-46.971456</td>\n",
       "      <td>-34.926957</td>\n",
       "      <td>-28.057951</td>\n",
       "      <td>-32.295593</td>\n",
       "      <td>-30.985348</td>\n",
       "      <td>-24.106594</td>\n",
       "      <td>-36.894694</td>\n",
       "      <td>2</td>\n",
       "    </tr>\n",
       "    <tr>\n",
       "      <th>5</th>\n",
       "      <td>121.878477</td>\n",
       "      <td>21.713377</td>\n",
       "      <td>30.754359</td>\n",
       "      <td>10.720482</td>\n",
       "      <td>-5.614412</td>\n",
       "      <td>4.422779</td>\n",
       "      <td>-3.756901</td>\n",
       "      <td>-0.791968</td>\n",
       "      <td>8.745194</td>\n",
       "      <td>-6.965751</td>\n",
       "      <td>...</td>\n",
       "      <td>-43.321698</td>\n",
       "      <td>-48.832194</td>\n",
       "      <td>-35.775460</td>\n",
       "      <td>-41.929200</td>\n",
       "      <td>-34.590932</td>\n",
       "      <td>-28.325099</td>\n",
       "      <td>-33.757793</td>\n",
       "      <td>-25.270519</td>\n",
       "      <td>-26.924488</td>\n",
       "      <td>1</td>\n",
       "    </tr>\n",
       "    <tr>\n",
       "      <th>6</th>\n",
       "      <td>83.416852</td>\n",
       "      <td>4.502082</td>\n",
       "      <td>26.924990</td>\n",
       "      <td>-5.022484</td>\n",
       "      <td>-3.621275</td>\n",
       "      <td>-6.948813</td>\n",
       "      <td>-0.262389</td>\n",
       "      <td>-3.526411</td>\n",
       "      <td>-7.785947</td>\n",
       "      <td>5.231769</td>\n",
       "      <td>...</td>\n",
       "      <td>-54.390105</td>\n",
       "      <td>-41.021191</td>\n",
       "      <td>-38.817514</td>\n",
       "      <td>-51.305676</td>\n",
       "      <td>-36.031416</td>\n",
       "      <td>-29.745482</td>\n",
       "      <td>-42.040026</td>\n",
       "      <td>-36.378622</td>\n",
       "      <td>-26.927333</td>\n",
       "      <td>4</td>\n",
       "    </tr>\n",
       "    <tr>\n",
       "      <th>7</th>\n",
       "      <td>133.845093</td>\n",
       "      <td>42.073079</td>\n",
       "      <td>28.054864</td>\n",
       "      <td>11.006103</td>\n",
       "      <td>-13.007237</td>\n",
       "      <td>-15.671374</td>\n",
       "      <td>-14.417955</td>\n",
       "      <td>-11.942236</td>\n",
       "      <td>-3.300804</td>\n",
       "      <td>-1.924138</td>\n",
       "      <td>...</td>\n",
       "      <td>-65.259103</td>\n",
       "      <td>-34.872737</td>\n",
       "      <td>-46.459893</td>\n",
       "      <td>-48.334418</td>\n",
       "      <td>-35.256452</td>\n",
       "      <td>-40.912624</td>\n",
       "      <td>-36.779499</td>\n",
       "      <td>-31.596592</td>\n",
       "      <td>-29.422114</td>\n",
       "      <td>2</td>\n",
       "    </tr>\n",
       "    <tr>\n",
       "      <th>8</th>\n",
       "      <td>94.701989</td>\n",
       "      <td>34.989860</td>\n",
       "      <td>25.875547</td>\n",
       "      <td>14.677299</td>\n",
       "      <td>2.287328</td>\n",
       "      <td>-10.932332</td>\n",
       "      <td>-12.039091</td>\n",
       "      <td>-3.920363</td>\n",
       "      <td>-2.795187</td>\n",
       "      <td>1.791484</td>\n",
       "      <td>...</td>\n",
       "      <td>-49.239817</td>\n",
       "      <td>-40.344853</td>\n",
       "      <td>-62.098936</td>\n",
       "      <td>-43.955151</td>\n",
       "      <td>-34.590999</td>\n",
       "      <td>-28.337221</td>\n",
       "      <td>-31.831155</td>\n",
       "      <td>-27.229537</td>\n",
       "      <td>-30.386191</td>\n",
       "      <td>7</td>\n",
       "    </tr>\n",
       "    <tr>\n",
       "      <th>9</th>\n",
       "      <td>69.099574</td>\n",
       "      <td>31.118020</td>\n",
       "      <td>28.277781</td>\n",
       "      <td>-5.318667</td>\n",
       "      <td>3.926717</td>\n",
       "      <td>-13.002597</td>\n",
       "      <td>-8.693370</td>\n",
       "      <td>-2.669918</td>\n",
       "      <td>-8.554347</td>\n",
       "      <td>-5.100528</td>\n",
       "      <td>...</td>\n",
       "      <td>-50.294618</td>\n",
       "      <td>-35.546704</td>\n",
       "      <td>-42.306897</td>\n",
       "      <td>-25.553166</td>\n",
       "      <td>-26.506282</td>\n",
       "      <td>-29.255847</td>\n",
       "      <td>-24.923577</td>\n",
       "      <td>-23.578668</td>\n",
       "      <td>-29.043581</td>\n",
       "      <td>7</td>\n",
       "    </tr>\n",
       "  </tbody>\n",
       "</table>\n",
       "<p>10 rows × 101 columns</p>\n",
       "</div>"
      ],
      "text/plain": [
       "        mean1      mean2      mean3      mean4      mean5      mean6  \\\n",
       "0   66.086669   0.198296  30.898380  -4.170796   1.596260  -0.064109   \n",
       "1   69.041378  14.241436  12.000823 -21.880788 -11.148848 -20.552939   \n",
       "2  123.653986  39.709511  23.365612  14.806894 -10.045336 -11.356823   \n",
       "3  100.008416  25.510261  29.532417  -0.194424  -4.279923 -11.279927   \n",
       "4  116.206575  47.207471  35.811250   7.430382 -18.368141 -19.419462   \n",
       "5  121.878477  21.713377  30.754359  10.720482  -5.614412   4.422779   \n",
       "6   83.416852   4.502082  26.924990  -5.022484  -3.621275  -6.948813   \n",
       "7  133.845093  42.073079  28.054864  11.006103 -13.007237 -15.671374   \n",
       "8   94.701989  34.989860  25.875547  14.677299   2.287328 -10.932332   \n",
       "9   69.099574  31.118020  28.277781  -5.318667   3.926717 -13.002597   \n",
       "\n",
       "       mean7      mean8     mean9     mean10   ...        min12      min13  \\\n",
       "0  -7.124103  -5.956473 -5.409780  -7.108311   ...   -50.365220 -32.806211   \n",
       "1  -5.732968  -7.608625  0.753778 -10.144051   ...   -42.601305 -45.104760   \n",
       "2 -10.249868 -16.601711 -4.978503 -11.390744   ...   -37.643174 -39.219701   \n",
       "3  -5.119383  -6.071043 -5.023423   2.542780   ...   -37.927276 -35.898373   \n",
       "4  -9.812592 -11.638624 -4.680089   2.536189   ...   -38.619421 -33.813019   \n",
       "5  -3.756901  -0.791968  8.745194  -6.965751   ...   -43.321698 -48.832194   \n",
       "6  -0.262389  -3.526411 -7.785947   5.231769   ...   -54.390105 -41.021191   \n",
       "7 -14.417955 -11.942236 -3.300804  -1.924138   ...   -65.259103 -34.872737   \n",
       "8 -12.039091  -3.920363 -2.795187   1.791484   ...   -49.239817 -40.344853   \n",
       "9  -8.693370  -2.669918 -8.554347  -5.100528   ...   -50.294618 -35.546704   \n",
       "\n",
       "       min14      min15      min16      min17      min18      min19  \\\n",
       "0 -53.881973 -40.479408 -30.295574 -31.169916 -34.386232 -28.733823   \n",
       "1 -38.966505 -27.027522 -33.504219 -27.548855 -31.815561 -40.243146   \n",
       "2 -41.962894 -51.070393 -38.965362 -32.662242 -37.837483 -36.756760   \n",
       "3 -41.112821 -32.072889 -29.973888 -30.491536 -21.509400 -17.090042   \n",
       "4 -46.971456 -34.926957 -28.057951 -32.295593 -30.985348 -24.106594   \n",
       "5 -35.775460 -41.929200 -34.590932 -28.325099 -33.757793 -25.270519   \n",
       "6 -38.817514 -51.305676 -36.031416 -29.745482 -42.040026 -36.378622   \n",
       "7 -46.459893 -48.334418 -35.256452 -40.912624 -36.779499 -31.596592   \n",
       "8 -62.098936 -43.955151 -34.590999 -28.337221 -31.831155 -27.229537   \n",
       "9 -42.306897 -25.553166 -26.506282 -29.255847 -24.923577 -23.578668   \n",
       "\n",
       "       min20  OUTPUT  \n",
       "0 -24.153801       4  \n",
       "1 -33.785957       7  \n",
       "2 -23.036005       2  \n",
       "3 -21.194056       8  \n",
       "4 -36.894694       2  \n",
       "5 -26.924488       1  \n",
       "6 -26.927333       4  \n",
       "7 -29.422114       2  \n",
       "8 -30.386191       7  \n",
       "9 -29.043581       7  \n",
       "\n",
       "[10 rows x 101 columns]"
      ]
     },
     "execution_count": 18,
     "metadata": {},
     "output_type": "execute_result"
    }
   ],
   "source": [
    "df.head(10)"
   ]
  },
  {
   "cell_type": "code",
   "execution_count": 29,
   "metadata": {},
   "outputs": [],
   "source": [
    "data_train, data_test = train_test_split(df, test_size=0.3)\n",
    "x_train = data_train.drop(data_train[['OUTPUT']],axis=1)\n",
    "y_train = data_train[['OUTPUT']]\n",
    "\n",
    "x_test = data_test.drop(data_test[['OUTPUT']],axis=1)\n",
    "y_test = data_test[['OUTPUT']]"
   ]
  },
  {
   "cell_type": "code",
   "execution_count": 35,
   "metadata": {},
   "outputs": [
    {
     "name": "stderr",
     "output_type": "stream",
     "text": [
      "/home/timetraveller05/.local/lib/python3.5/site-packages/sklearn/utils/validation.py:724: DataConversionWarning: A column-vector y was passed when a 1d array was expected. Please change the shape of y to (n_samples, ), for example using ravel().\n",
      "  y = column_or_1d(y, warn=True)\n"
     ]
    },
    {
     "data": {
      "text/plain": [
       "0.994475138121547"
      ]
     },
     "execution_count": 35,
     "metadata": {},
     "output_type": "execute_result"
    }
   ],
   "source": [
    "scaler = StandardScaler()\n",
    "scaler.fit(x_train)\n",
    "x_train = scaler.transform(x_train)\n",
    "x_test = scaler.transform(x_test)\n",
    "\n",
    "clf = SVC(gamma='auto')\n",
    "clf.fit(x_train, y_train)\n",
    "\n",
    "y_pred = clf.predict(x_test)\n",
    "clf.score(x_test, y_test)"
   ]
  },
  {
   "cell_type": "code",
   "execution_count": 36,
   "metadata": {},
   "outputs": [
    {
     "data": {
      "text/plain": [
       "<matplotlib.image.AxesImage at 0x7f4b61d29da0>"
      ]
     },
     "execution_count": 36,
     "metadata": {},
     "output_type": "execute_result"
    },
    {
     "data": {
      "image/png": "[encoded data removed]",
      "text/plain": [
       "<Figure size 432x288 with 1 Axes>"
      ]
     },
     "metadata": {
      "needs_background": "light"
     },
     "output_type": "display_data"
    }
   ],
   "source": [
    "cm = confusion_matrix(y_test, y_pred)\n",
    "plt.imshow(cm, interpolation='nearest', cmap=plt.cm.Blues)\n",
    "plt.xticks([0, 1, 2, 3, 4, 5, 6, 7, 8])"
   ]
  },
  {
   "cell_type": "code",
   "execution_count": 37,
   "metadata": {},
   "outputs": [
    {
     "name": "stderr",
     "output_type": "stream",
     "text": [
      "/home/timetraveller05/.local/lib/python3.5/site-packages/sklearn/linear_model/logistic.py:432: FutureWarning: Default solver will be changed to 'lbfgs' in 0.22. Specify a solver to silence this warning.\n",
      "  FutureWarning)\n",
      "/home/timetraveller05/.local/lib/python3.5/site-packages/sklearn/utils/validation.py:724: DataConversionWarning: A column-vector y was passed when a 1d array was expected. Please change the shape of y to (n_samples, ), for example using ravel().\n",
      "  y = column_or_1d(y, warn=True)\n",
      "/home/timetraveller05/.local/lib/python3.5/site-packages/sklearn/linear_model/logistic.py:469: FutureWarning: Default multi_class will be changed to 'auto' in 0.22. Specify the multi_class option to silence this warning.\n",
      "  \"this warning.\", FutureWarning)\n"
     ]
    },
    {
     "data": {
      "text/plain": [
       "0.9668508287292817"
      ]
     },
     "execution_count": 37,
     "metadata": {},
     "output_type": "execute_result"
    }
   ],
   "source": [
    "lr = LogisticRegression()\n",
    "lr.fit(x_train, y_train)\n",
    "y_pred = lr.predict(x_test)\n",
    "lr.score(x_test, y_test)"
   ]
  },
  {
   "cell_type": "code",
   "execution_count": 38,
   "metadata": {},
   "outputs": [
    {
     "data": {
      "text/plain": [
       "<matplotlib.image.AxesImage at 0x7f4b5fc55b38>"
      ]
     },
     "execution_count": 38,
     "metadata": {},
     "output_type": "execute_result"
    },
    {
     "data": {
      "image/png": "[encoded data removed]",
      "text/plain": [
       "<Figure size 432x288 with 1 Axes>"
      ]
     },
     "metadata": {
      "needs_background": "light"
     },
     "output_type": "display_data"
    }
   ],
   "source": [
    "cm = confusion_matrix(y_test, y_pred)\n",
    "plt.imshow(cm, interpolation='nearest', cmap=plt.cm.Blues)\n",
    "plt.xticks([0, 1, 2, 3, 4, 5, 6, 7, 8])"
   ]
  },
  {
   "cell_type": "code",
   "execution_count": 39,
   "metadata": {},
   "outputs": [
    {
     "name": "stderr",
     "output_type": "stream",
     "text": [
      "/home/timetraveller05/.local/lib/python3.5/site-packages/ipykernel_launcher.py:2: DataConversionWarning: A column-vector y was passed when a 1d array was expected. Please change the shape of y to (n_samples, ), for example using ravel().\n",
      "  \n"
     ]
    },
    {
     "data": {
      "text/plain": [
       "0.9558011049723757"
      ]
     },
     "execution_count": 39,
     "metadata": {},
     "output_type": "execute_result"
    }
   ],
   "source": [
    "knn = KNeighborsClassifier(n_neighbors=5, metric='euclidean')\n",
    "knn.fit(x_train, y_train)\n",
    "y_pred = knn.predict(x_test)\n",
    "knn.score(x_test, y_test)"
   ]
  },
  {
   "cell_type": "code",
   "execution_count": 43,
   "metadata": {},
   "outputs": [
    {
     "data": {
      "text/plain": [
       "([<matplotlib.axis.XTick at 0x7f4b5fbd7b00>,\n",
       "  <matplotlib.axis.XTick at 0x7f4b5fbec128>,\n",
       "  <matplotlib.axis.XTick at 0x7f4b5fbec1d0>,\n",
       "  <matplotlib.axis.XTick at 0x7f4b5fb8ac88>,\n",
       "  <matplotlib.axis.XTick at 0x7f4b5fb8ad68>,\n",
       "  <matplotlib.axis.XTick at 0x7f4b5fb90518>,\n",
       "  <matplotlib.axis.XTick at 0x7f4b5fb909e8>,\n",
       "  <matplotlib.axis.XTick at 0x7f4b5fb90eb8>,\n",
       "  <matplotlib.axis.XTick at 0x7f4b5fb943c8>],\n",
       " <a list of 9 Text xticklabel objects>)"
      ]
     },
     "execution_count": 43,
     "metadata": {},
     "output_type": "execute_result"
    },
    {
     "data": {
      "image/png": "[encoded data removed]",
      "text/plain": [
       "<Figure size 432x288 with 1 Axes>"
      ]
     },
     "metadata": {
      "needs_background": "light"
     },
     "output_type": "display_data"
    }
   ],
   "source": [
    "cm = confusion_matrix(y_test, y_pred)\n",
    "plt.imshow(cm, interpolation='nearest', cmap=plt.cm.Blues)\n",
    "plt.xticks([0, 1, 2, 3, 4, 5, 6, 7, 8])"
   ]
  },
  {
   "cell_type": "code",
   "execution_count": 41,
   "metadata": {},
   "outputs": [
    {
     "name": "stderr",
     "output_type": "stream",
     "text": [
      "/home/timetraveller05/.local/lib/python3.5/site-packages/ipykernel_launcher.py:2: DataConversionWarning: A column-vector y was passed when a 1d array was expected. Please change the shape of y to (n_samples, ), for example using ravel().\n",
      "  \n"
     ]
    },
    {
     "data": {
      "text/plain": [
       "0.988950276243094"
      ]
     },
     "execution_count": 41,
     "metadata": {},
     "output_type": "execute_result"
    }
   ],
   "source": [
    "knn = KNeighborsClassifier(n_neighbors=3, metric='euclidean')\n",
    "knn.fit(x_train, y_train)\n",
    "knn.score(x_test, y_test)"
   ]
  },
  {
   "cell_type": "code",
   "execution_count": 42,
   "metadata": {},
   "outputs": [
    {
     "data": {
      "text/plain": [
       "<matplotlib.image.AxesImage at 0x7f4b5fbcf668>"
      ]
     },
     "execution_count": 42,
     "metadata": {},
     "output_type": "execute_result"
    },
    {
     "data": {
      "image/png": "[encoded data removed]",
      "text/plain": [
       "<Figure size 432x288 with 1 Axes>"
      ]
     },
     "metadata": {
      "needs_background": "light"
     },
     "output_type": "display_data"
    }
   ],
   "source": [
    "cm = confusion_matrix(y_test, y_pred)\n",
    "plt.imshow(cm, interpolation='nearest', cmap=plt.cm.Blues)\n",
    "plt.xticks([0, 1, 2, 3, 4, 5, 6, 7, 8])"
   ]
  },
  {
   "cell_type": "code",
   "execution_count": null,
   "metadata": {},
   "outputs": [],
   "source": []
  }
 ],
 "metadata": {
  "kernelspec": {
   "display_name": "Python 3",
   "language": "python",
   "name": "python3"
  },
  "language_info": {
   "codemirror_mode": {
    "name": "ipython",
    "version": 3
   },
   "file_extension": ".py",
   "mimetype": "text/x-python",
   "name": "python",
   "nbconvert_exporter": "python",
   "pygments_lexer": "ipython3",
   "version": "3.5.2"
  }
 },
 "nbformat": 4,
 "nbformat_minor": 2
}
