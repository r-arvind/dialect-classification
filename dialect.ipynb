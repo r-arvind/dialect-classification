{
 "cells": [
  {
   "cell_type": "code",
   "execution_count": 31,
   "metadata": {},
   "outputs": [],
   "source": [
    "import numpy as np\n",
    "import pandas as pd\n",
    "import IPython.display as ipd\n",
    "import scipy.io.wavfile as wav\n",
    "from scipy.fftpack import dct\n",
    "from zipfile import ZipFile\n",
    "import matplotlib.pyplot as plt\n",
    "from scipy.stats import skew\n",
    "import os,glob\n",
    "from sklearn.model_selection import train_test_split\n",
    "from sklearn.svm import SVC\n",
    "from sklearn.preprocessing import StandardScaler\n",
    "from sklearn.linear_model import LogisticRegression\n",
    "from sklearn.neighbors import KNeighborsClassifier\n",
    "from sklearn.metrics import confusion_matrix"
   ]
  },
  {
   "cell_type": "markdown",
   "metadata": {},
   "source": [
    "#### The function below returns a dataframe containing all file paths and their corresponding label"
   ]
  },
  {
   "cell_type": "code",
   "execution_count": 2,
   "metadata": {},
   "outputs": [],
   "source": [
    "def generate_path(base_path):\n",
    "    temp = []\n",
    "    for types in dialects: \n",
    "        df = pd.DataFrame()\n",
    "        base_dir = base_path + str(types)\n",
    "        files = glob.glob(base_dir+'/*.wav')\n",
    "        y = [types]*len(files)\n",
    "        df[\"FILE\"] = files\n",
    "        df[\"OUTPUT\"] = y\n",
    "        temp.append(df)\n",
    "    return pd.concat(temp).reset_index(drop=True)"
   ]
  },
  {
   "cell_type": "code",
   "execution_count": 3,
   "metadata": {},
   "outputs": [],
   "source": [
    "def generate_audio_frames(fs,audio,frameSize,frameOverlap):\n",
    "    frameLen, frameLap = int(round(fs*frameSize)), int(round(fs*frameOverlap))\n",
    "    audioLen = len(audio)\n",
    "    paddingLen = frameLap - (audioLen - frameLen) % frameLap #making number of frames even\n",
    "    paddedAudio = np.concatenate((audio, np.zeros(paddingLen)), axis = 0)\n",
    "    audioLen = len(paddedAudio)\n",
    "    numberOfFrames = int(np.floor((audioLen - frameLen)/frameLap) + 1)\n",
    "    indices = np.tile(np.arange(0, frameLen), (numberOfFrames, 1)) + np.tile((np.arange(0, numberOfFrames*frameLap, frameLap)), (frameLen, 1)).T\n",
    "    frames = paddedAudio[indices]\n",
    "    return frames, frameLen"
   ]
  },
  {
   "cell_type": "code",
   "execution_count": 4,
   "metadata": {},
   "outputs": [],
   "source": [
    "def apply_hamming(frames,frameLen):\n",
    "    frames = frames * np.hamming(frameLen)\n",
    "    return frames"
   ]
  },
  {
   "cell_type": "code",
   "execution_count": 5,
   "metadata": {},
   "outputs": [],
   "source": [
    "def power_spectrum(frames, nfft):\n",
    "    mag_frames = np.absolute(np.fft.rfft(frames, nfft))  # Magnitude of the FFT\n",
    "    pow_frames = np.square(mag_frames)/nfft  # Power Spectrum\n",
    "    return pow_frames"
   ]
  },
  {
   "cell_type": "code",
   "execution_count": 6,
   "metadata": {},
   "outputs": [],
   "source": [
    "def generate_filter_bank(fs,num_banks,nfft):\n",
    "    \n",
    "    hz_to_mel = lambda x: (2595 * np.log10(1 + (x / 2) / 700))\n",
    "    mel_to_hz = lambda x: (700*(np.power(10, x/2595) - 1))\n",
    "    \n",
    "    lower_mel = 0\n",
    "    upper_mel = hz_to_mel(fs)\n",
    "    mel_points = np.linspace(lower_mel, upper_mel, num_banks + 2)\n",
    "    hz_points = mel_to_hz(mel_points)\n",
    "    bins = np.floor((nfft + 1) * hz_points/fs)\n",
    "    \n",
    "    fbank = np.zeros((num_banks, int(np.floor(nfft/2 + 1))))\n",
    "    for m in range(1, num_banks + 1):\n",
    "        left = int(bins[m - 1])\n",
    "        center = int(bins[m])\n",
    "        right = int(bins[m + 1])\n",
    "        for k in range(left, center):\n",
    "            fbank[m - 1, k] = (k - bins[m - 1])/(bins[m] - bins[m - 1])\n",
    "        for k in range(center, right):\n",
    "            fbank[m - 1, k] = (bins[m + 1] - k)/(bins[m + 1] - bins[m])\n",
    "    return fbank"
   ]
  },
  {
   "cell_type": "code",
   "execution_count": 7,
   "metadata": {},
   "outputs": [],
   "source": [
    "def apply_filter_banks(power_frames,fbank):\n",
    "    filter_banks = np.dot(power_frames, fbank.T)\n",
    "    #for numerical stability\n",
    "    filter_banks = np.where(filter_banks == 0, np.finfo(float).eps, filter_banks) #if condition is true, return eps, else return original val\n",
    "    filter_banks = 20*np.log10(filter_banks)\n",
    "    return filter_banks"
   ]
  },
  {
   "cell_type": "code",
   "execution_count": 8,
   "metadata": {},
   "outputs": [],
   "source": [
    "def generate_mfcc(filterBanks,num_ceps):\n",
    "    mfcc = dct(filterBanks, type = 2, axis = 1, norm = 'ortho')[:, 1:(num_ceps + 1)]\n",
    "    return mfcc  "
   ]
  },
  {
   "cell_type": "code",
   "execution_count": 9,
   "metadata": {},
   "outputs": [],
   "source": [
    "def audio_feature_extraction(audio_path,frameLen,frameOverlap,nfft,num_fbanks,num_ceps):\n",
    "    fs, audio = wav.read(audio_path)\n",
    "    frm,frmlen = generate_audio_frames(fs,audio,frameLen,frameOverlap)\n",
    "    frm = apply_hamming(frm,frmlen)\n",
    "    pow_frm = power_spectrum(frm,nfft)\n",
    "    fbank = generate_filter_bank(fs,num_fbanks,nfft)\n",
    "    filter_banks = apply_filter_banks(pow_frm,fbank)\n",
    "    mfcc = generate_mfcc(filter_banks,num_ceps)\n",
    "    return mfcc"
   ]
  },
  {
   "cell_type": "code",
   "execution_count": 10,
   "metadata": {},
   "outputs": [],
   "source": [
    "framelength = 0.025\n",
    "frameoverlap = 0.015\n",
    "nfft = 512\n",
    "num_fbanks = 40\n",
    "num_ceps = 20\n",
    "N = 2\n",
    "dialects = [1,2,3,4,5,6,7,8,9]\n",
    "dataset_path = \"dataset/IDR\""
   ]
  },
  {
   "cell_type": "code",
   "execution_count": 11,
   "metadata": {},
   "outputs": [
    {
     "data": {
      "text/html": [
       "<div>\n",
       "<style scoped>\n",
       "    .dataframe tbody tr th:only-of-type {\n",
       "        vertical-align: middle;\n",
       "    }\n",
       "\n",
       "    .dataframe tbody tr th {\n",
       "        vertical-align: top;\n",
       "    }\n",
       "\n",
       "    .dataframe thead th {\n",
       "        text-align: right;\n",
       "    }\n",
       "</style>\n",
       "<table border=\"1\" class=\"dataframe\">\n",
       "  <thead>\n",
       "    <tr style=\"text-align: right;\">\n",
       "      <th></th>\n",
       "      <th>FILE</th>\n",
       "      <th>OUTPUT</th>\n",
       "    </tr>\n",
       "  </thead>\n",
       "  <tbody>\n",
       "    <tr>\n",
       "      <th>598</th>\n",
       "      <td>dataset/IDR9/21.wav</td>\n",
       "      <td>9</td>\n",
       "    </tr>\n",
       "    <tr>\n",
       "      <th>599</th>\n",
       "      <td>dataset/IDR9/11.wav</td>\n",
       "      <td>9</td>\n",
       "    </tr>\n",
       "    <tr>\n",
       "      <th>600</th>\n",
       "      <td>dataset/IDR9/17.wav</td>\n",
       "      <td>9</td>\n",
       "    </tr>\n",
       "    <tr>\n",
       "      <th>601</th>\n",
       "      <td>dataset/IDR9/65.wav</td>\n",
       "      <td>9</td>\n",
       "    </tr>\n",
       "    <tr>\n",
       "      <th>602</th>\n",
       "      <td>dataset/IDR9/14.wav</td>\n",
       "      <td>9</td>\n",
       "    </tr>\n",
       "  </tbody>\n",
       "</table>\n",
       "</div>"
      ],
      "text/plain": [
       "                    FILE  OUTPUT\n",
       "598  dataset/IDR9/21.wav       9\n",
       "599  dataset/IDR9/11.wav       9\n",
       "600  dataset/IDR9/17.wav       9\n",
       "601  dataset/IDR9/65.wav       9\n",
       "602  dataset/IDR9/14.wav       9"
      ]
     },
     "execution_count": 11,
     "metadata": {},
     "output_type": "execute_result"
    }
   ],
   "source": [
    "dataset = generate_path(dataset_path)\n",
    "dataset.tail()"
   ]
  },
  {
   "cell_type": "code",
   "execution_count": 12,
   "metadata": {},
   "outputs": [],
   "source": [
    "num = 0\n",
    "test = dataset[\"FILE\"][num]\n",
    "mfcc = audio_feature_extraction(test,framelength,frameoverlap,nfft,num_fbanks,num_ceps)"
   ]
  },
  {
   "cell_type": "code",
   "execution_count": 13,
   "metadata": {},
   "outputs": [
    {
     "name": "stdout",
     "output_type": "stream",
     "text": [
      "20\n"
     ]
    },
    {
     "data": {
      "text/plain": [
       "(603, 2)"
      ]
     },
     "execution_count": 13,
     "metadata": {},
     "output_type": "execute_result"
    }
   ],
   "source": [
    "print(len(mfcc[0]))\n",
    "dataset.shape"
   ]
  },
  {
   "cell_type": "code",
   "execution_count": 14,
   "metadata": {},
   "outputs": [],
   "source": [
    "features = {\n",
    "    \"mean\" : lambda x: np.mean(x,axis=0),\n",
    "    \"min\" : lambda x: np.min(x,axis=0),\n",
    "    \"max\" : lambda x: np.max(x,axis=0),\n",
    "    \"std_dev\" : lambda x: np.std(x,axis=0),\n",
    "    \"median\" : lambda x: np.median(x,axis=0)\n",
    "}"
   ]
  },
  {
   "cell_type": "code",
   "execution_count": 15,
   "metadata": {},
   "outputs": [],
   "source": [
    "def generate_model_data(df,size=100):\n",
    "    df = df.sample(frac=1).reset_index(drop=True)\n",
    "    col = []\n",
    "    y = []\n",
    "    for key in features.keys():\n",
    "        for i in range(1,num_ceps+1):\n",
    "            col.append(key + str(i))\n",
    "    rows = []\n",
    "    for index, row in df.iterrows():\n",
    "        if(index<size):\n",
    "            temp = []\n",
    "            y.append(row[\"OUTPUT\"])\n",
    "            path = row[\"FILE\"]\n",
    "            mfcc = audio_feature_extraction(path,framelength,frameoverlap,nfft,num_fbanks,num_ceps)\n",
    "            for key in features.keys():\n",
    "                temp.append(features[key](mfcc))\n",
    "            rows.append(np.concatenate(temp))\n",
    "        else:\n",
    "            break\n",
    "    feat = pd.DataFrame(rows)\n",
    "    feat.columns = col\n",
    "    feat[\"OUTPUT\"] = y\n",
    "    return feat"
   ]
  },
  {
   "cell_type": "code",
   "execution_count": 16,
   "metadata": {},
   "outputs": [],
   "source": [
    "df = generate_model_data(dataset,602)"
   ]
  },
  {
   "cell_type": "code",
   "execution_count": 17,
   "metadata": {},
   "outputs": [
    {
     "data": {
      "text/plain": [
       "(602, 101)"
      ]
     },
     "execution_count": 17,
     "metadata": {},
     "output_type": "execute_result"
    }
   ],
   "source": [
    "df.shape"
   ]
  },
  {
   "cell_type": "code",
   "execution_count": 18,
   "metadata": {
    "scrolled": true
   },
   "outputs": [
    {
     "data": {
      "text/html": [
       "<div>\n",
       "<style scoped>\n",
       "    .dataframe tbody tr th:only-of-type {\n",
       "        vertical-align: middle;\n",
       "    }\n",
       "\n",
       "    .dataframe tbody tr th {\n",
       "        vertical-align: top;\n",
       "    }\n",
       "\n",
       "    .dataframe thead th {\n",
       "        text-align: right;\n",
       "    }\n",
       "</style>\n",
       "<table border=\"1\" class=\"dataframe\">\n",
       "  <thead>\n",
       "    <tr style=\"text-align: right;\">\n",
       "      <th></th>\n",
       "      <th>std_dev1</th>\n",
       "      <th>std_dev2</th>\n",
       "      <th>std_dev3</th>\n",
       "      <th>std_dev4</th>\n",
       "      <th>std_dev5</th>\n",
       "      <th>std_dev6</th>\n",
       "      <th>std_dev7</th>\n",
       "      <th>std_dev8</th>\n",
       "      <th>std_dev9</th>\n",
       "      <th>std_dev10</th>\n",
       "      <th>...</th>\n",
       "      <th>median12</th>\n",
       "      <th>median13</th>\n",
       "      <th>median14</th>\n",
       "      <th>median15</th>\n",
       "      <th>median16</th>\n",
       "      <th>median17</th>\n",
       "      <th>median18</th>\n",
       "      <th>median19</th>\n",
       "      <th>median20</th>\n",
       "      <th>OUTPUT</th>\n",
       "    </tr>\n",
       "  </thead>\n",
       "  <tbody>\n",
       "    <tr>\n",
       "      <th>0</th>\n",
       "      <td>61.477739</td>\n",
       "      <td>38.084838</td>\n",
       "      <td>24.510173</td>\n",
       "      <td>26.490122</td>\n",
       "      <td>23.667480</td>\n",
       "      <td>18.623375</td>\n",
       "      <td>19.916879</td>\n",
       "      <td>16.474822</td>\n",
       "      <td>15.089634</td>\n",
       "      <td>14.979710</td>\n",
       "      <td>...</td>\n",
       "      <td>-3.291166</td>\n",
       "      <td>-2.395993</td>\n",
       "      <td>-5.223168</td>\n",
       "      <td>-3.475562</td>\n",
       "      <td>-4.067378</td>\n",
       "      <td>1.272803</td>\n",
       "      <td>0.812163</td>\n",
       "      <td>0.105814</td>\n",
       "      <td>0.838971</td>\n",
       "      <td>4</td>\n",
       "    </tr>\n",
       "    <tr>\n",
       "      <th>1</th>\n",
       "      <td>63.763669</td>\n",
       "      <td>33.352536</td>\n",
       "      <td>27.064837</td>\n",
       "      <td>19.916422</td>\n",
       "      <td>28.544695</td>\n",
       "      <td>18.936541</td>\n",
       "      <td>17.230588</td>\n",
       "      <td>16.866343</td>\n",
       "      <td>12.850586</td>\n",
       "      <td>12.037657</td>\n",
       "      <td>...</td>\n",
       "      <td>-12.358763</td>\n",
       "      <td>-4.928455</td>\n",
       "      <td>-13.633332</td>\n",
       "      <td>-5.507632</td>\n",
       "      <td>-2.932206</td>\n",
       "      <td>-5.650121</td>\n",
       "      <td>-6.144465</td>\n",
       "      <td>-1.618524</td>\n",
       "      <td>-5.733053</td>\n",
       "      <td>2</td>\n",
       "    </tr>\n",
       "    <tr>\n",
       "      <th>2</th>\n",
       "      <td>74.249432</td>\n",
       "      <td>40.938234</td>\n",
       "      <td>26.496325</td>\n",
       "      <td>19.996271</td>\n",
       "      <td>29.647919</td>\n",
       "      <td>16.427649</td>\n",
       "      <td>16.937654</td>\n",
       "      <td>14.666912</td>\n",
       "      <td>12.942415</td>\n",
       "      <td>14.263035</td>\n",
       "      <td>...</td>\n",
       "      <td>2.231309</td>\n",
       "      <td>-0.357192</td>\n",
       "      <td>-3.252009</td>\n",
       "      <td>0.941497</td>\n",
       "      <td>-4.575722</td>\n",
       "      <td>-2.433802</td>\n",
       "      <td>-0.917846</td>\n",
       "      <td>-2.214484</td>\n",
       "      <td>-1.383270</td>\n",
       "      <td>1</td>\n",
       "    </tr>\n",
       "    <tr>\n",
       "      <th>3</th>\n",
       "      <td>62.872320</td>\n",
       "      <td>58.301550</td>\n",
       "      <td>27.141424</td>\n",
       "      <td>30.706458</td>\n",
       "      <td>24.932294</td>\n",
       "      <td>18.764672</td>\n",
       "      <td>21.077773</td>\n",
       "      <td>14.612645</td>\n",
       "      <td>13.371913</td>\n",
       "      <td>13.596997</td>\n",
       "      <td>...</td>\n",
       "      <td>-4.956702</td>\n",
       "      <td>-1.765099</td>\n",
       "      <td>-5.228703</td>\n",
       "      <td>2.393419</td>\n",
       "      <td>3.440595</td>\n",
       "      <td>5.803185</td>\n",
       "      <td>1.806004</td>\n",
       "      <td>2.095920</td>\n",
       "      <td>-0.022405</td>\n",
       "      <td>6</td>\n",
       "    </tr>\n",
       "    <tr>\n",
       "      <th>4</th>\n",
       "      <td>56.679256</td>\n",
       "      <td>40.138100</td>\n",
       "      <td>25.139297</td>\n",
       "      <td>22.474362</td>\n",
       "      <td>23.474647</td>\n",
       "      <td>19.622719</td>\n",
       "      <td>23.716843</td>\n",
       "      <td>18.343243</td>\n",
       "      <td>15.971959</td>\n",
       "      <td>12.244565</td>\n",
       "      <td>...</td>\n",
       "      <td>-4.536735</td>\n",
       "      <td>0.372624</td>\n",
       "      <td>-12.809762</td>\n",
       "      <td>-5.211764</td>\n",
       "      <td>2.061588</td>\n",
       "      <td>-0.352669</td>\n",
       "      <td>-3.675908</td>\n",
       "      <td>1.442589</td>\n",
       "      <td>-1.112065</td>\n",
       "      <td>4</td>\n",
       "    </tr>\n",
       "    <tr>\n",
       "      <th>5</th>\n",
       "      <td>63.729380</td>\n",
       "      <td>41.573626</td>\n",
       "      <td>26.243790</td>\n",
       "      <td>29.617044</td>\n",
       "      <td>25.724695</td>\n",
       "      <td>23.237806</td>\n",
       "      <td>18.250034</td>\n",
       "      <td>16.133567</td>\n",
       "      <td>12.978891</td>\n",
       "      <td>12.972562</td>\n",
       "      <td>...</td>\n",
       "      <td>-0.728272</td>\n",
       "      <td>-1.777540</td>\n",
       "      <td>-4.965374</td>\n",
       "      <td>1.771653</td>\n",
       "      <td>1.548168</td>\n",
       "      <td>0.737022</td>\n",
       "      <td>-2.555795</td>\n",
       "      <td>0.471123</td>\n",
       "      <td>-3.351337</td>\n",
       "      <td>6</td>\n",
       "    </tr>\n",
       "    <tr>\n",
       "      <th>6</th>\n",
       "      <td>59.413059</td>\n",
       "      <td>38.608440</td>\n",
       "      <td>25.507042</td>\n",
       "      <td>20.236966</td>\n",
       "      <td>21.654204</td>\n",
       "      <td>16.366229</td>\n",
       "      <td>21.757653</td>\n",
       "      <td>15.854108</td>\n",
       "      <td>14.852527</td>\n",
       "      <td>12.371568</td>\n",
       "      <td>...</td>\n",
       "      <td>-2.968406</td>\n",
       "      <td>-4.915173</td>\n",
       "      <td>-7.096346</td>\n",
       "      <td>3.047375</td>\n",
       "      <td>-0.575156</td>\n",
       "      <td>1.146308</td>\n",
       "      <td>-2.592629</td>\n",
       "      <td>-1.443796</td>\n",
       "      <td>-2.587269</td>\n",
       "      <td>8</td>\n",
       "    </tr>\n",
       "    <tr>\n",
       "      <th>7</th>\n",
       "      <td>62.409471</td>\n",
       "      <td>42.031502</td>\n",
       "      <td>24.791086</td>\n",
       "      <td>23.908253</td>\n",
       "      <td>25.159384</td>\n",
       "      <td>19.447092</td>\n",
       "      <td>20.777915</td>\n",
       "      <td>16.491607</td>\n",
       "      <td>14.264455</td>\n",
       "      <td>11.911513</td>\n",
       "      <td>...</td>\n",
       "      <td>-13.792638</td>\n",
       "      <td>-3.620104</td>\n",
       "      <td>-2.205447</td>\n",
       "      <td>-14.004355</td>\n",
       "      <td>-6.157436</td>\n",
       "      <td>1.269544</td>\n",
       "      <td>-8.268186</td>\n",
       "      <td>-1.646209</td>\n",
       "      <td>-2.533038</td>\n",
       "      <td>4</td>\n",
       "    </tr>\n",
       "    <tr>\n",
       "      <th>8</th>\n",
       "      <td>67.873162</td>\n",
       "      <td>40.903657</td>\n",
       "      <td>29.073496</td>\n",
       "      <td>27.067530</td>\n",
       "      <td>24.714286</td>\n",
       "      <td>19.433879</td>\n",
       "      <td>20.182238</td>\n",
       "      <td>17.141123</td>\n",
       "      <td>13.993949</td>\n",
       "      <td>12.854350</td>\n",
       "      <td>...</td>\n",
       "      <td>0.574479</td>\n",
       "      <td>-4.304471</td>\n",
       "      <td>-2.863055</td>\n",
       "      <td>4.533514</td>\n",
       "      <td>1.101521</td>\n",
       "      <td>2.472193</td>\n",
       "      <td>4.786512</td>\n",
       "      <td>4.334830</td>\n",
       "      <td>3.521403</td>\n",
       "      <td>1</td>\n",
       "    </tr>\n",
       "    <tr>\n",
       "      <th>9</th>\n",
       "      <td>61.159000</td>\n",
       "      <td>39.420850</td>\n",
       "      <td>22.972079</td>\n",
       "      <td>27.863168</td>\n",
       "      <td>20.339885</td>\n",
       "      <td>16.926907</td>\n",
       "      <td>19.129165</td>\n",
       "      <td>14.375669</td>\n",
       "      <td>12.347429</td>\n",
       "      <td>12.208975</td>\n",
       "      <td>...</td>\n",
       "      <td>-3.984110</td>\n",
       "      <td>-2.483104</td>\n",
       "      <td>-4.884073</td>\n",
       "      <td>0.912156</td>\n",
       "      <td>2.670953</td>\n",
       "      <td>4.199082</td>\n",
       "      <td>6.346206</td>\n",
       "      <td>6.895960</td>\n",
       "      <td>7.631443</td>\n",
       "      <td>8</td>\n",
       "    </tr>\n",
       "  </tbody>\n",
       "</table>\n",
       "<p>10 rows × 101 columns</p>\n",
       "</div>"
      ],
      "text/plain": [
       "    std_dev1   std_dev2   std_dev3   std_dev4   std_dev5   std_dev6  \\\n",
       "0  61.477739  38.084838  24.510173  26.490122  23.667480  18.623375   \n",
       "1  63.763669  33.352536  27.064837  19.916422  28.544695  18.936541   \n",
       "2  74.249432  40.938234  26.496325  19.996271  29.647919  16.427649   \n",
       "3  62.872320  58.301550  27.141424  30.706458  24.932294  18.764672   \n",
       "4  56.679256  40.138100  25.139297  22.474362  23.474647  19.622719   \n",
       "5  63.729380  41.573626  26.243790  29.617044  25.724695  23.237806   \n",
       "6  59.413059  38.608440  25.507042  20.236966  21.654204  16.366229   \n",
       "7  62.409471  42.031502  24.791086  23.908253  25.159384  19.447092   \n",
       "8  67.873162  40.903657  29.073496  27.067530  24.714286  19.433879   \n",
       "9  61.159000  39.420850  22.972079  27.863168  20.339885  16.926907   \n",
       "\n",
       "    std_dev7   std_dev8   std_dev9  std_dev10   ...     median12  median13  \\\n",
       "0  19.916879  16.474822  15.089634  14.979710   ...    -3.291166 -2.395993   \n",
       "1  17.230588  16.866343  12.850586  12.037657   ...   -12.358763 -4.928455   \n",
       "2  16.937654  14.666912  12.942415  14.263035   ...     2.231309 -0.357192   \n",
       "3  21.077773  14.612645  13.371913  13.596997   ...    -4.956702 -1.765099   \n",
       "4  23.716843  18.343243  15.971959  12.244565   ...    -4.536735  0.372624   \n",
       "5  18.250034  16.133567  12.978891  12.972562   ...    -0.728272 -1.777540   \n",
       "6  21.757653  15.854108  14.852527  12.371568   ...    -2.968406 -4.915173   \n",
       "7  20.777915  16.491607  14.264455  11.911513   ...   -13.792638 -3.620104   \n",
       "8  20.182238  17.141123  13.993949  12.854350   ...     0.574479 -4.304471   \n",
       "9  19.129165  14.375669  12.347429  12.208975   ...    -3.984110 -2.483104   \n",
       "\n",
       "    median14   median15  median16  median17  median18  median19  median20  \\\n",
       "0  -5.223168  -3.475562 -4.067378  1.272803  0.812163  0.105814  0.838971   \n",
       "1 -13.633332  -5.507632 -2.932206 -5.650121 -6.144465 -1.618524 -5.733053   \n",
       "2  -3.252009   0.941497 -4.575722 -2.433802 -0.917846 -2.214484 -1.383270   \n",
       "3  -5.228703   2.393419  3.440595  5.803185  1.806004  2.095920 -0.022405   \n",
       "4 -12.809762  -5.211764  2.061588 -0.352669 -3.675908  1.442589 -1.112065   \n",
       "5  -4.965374   1.771653  1.548168  0.737022 -2.555795  0.471123 -3.351337   \n",
       "6  -7.096346   3.047375 -0.575156  1.146308 -2.592629 -1.443796 -2.587269   \n",
       "7  -2.205447 -14.004355 -6.157436  1.269544 -8.268186 -1.646209 -2.533038   \n",
       "8  -2.863055   4.533514  1.101521  2.472193  4.786512  4.334830  3.521403   \n",
       "9  -4.884073   0.912156  2.670953  4.199082  6.346206  6.895960  7.631443   \n",
       "\n",
       "   OUTPUT  \n",
       "0       4  \n",
       "1       2  \n",
       "2       1  \n",
       "3       6  \n",
       "4       4  \n",
       "5       6  \n",
       "6       8  \n",
       "7       4  \n",
       "8       1  \n",
       "9       8  \n",
       "\n",
       "[10 rows x 101 columns]"
      ]
     },
     "execution_count": 18,
     "metadata": {},
     "output_type": "execute_result"
    }
   ],
   "source": [
    "df.head(10)"
   ]
  },
  {
   "cell_type": "code",
   "execution_count": 77,
   "metadata": {},
   "outputs": [],
   "source": [
    "data_train, data_test = train_test_split(df, test_size=0.3, shuffle=True)\n",
    "x_train = data_train.drop(data_train[['OUTPUT']],axis=1)\n",
    "y_train = data_train[['OUTPUT']]\n",
    "\n",
    "x_test = data_test.drop(data_test[['OUTPUT']],axis=1)\n",
    "y_test = data_test[['OUTPUT']]"
   ]
  },
  {
   "cell_type": "code",
   "execution_count": 95,
   "metadata": {},
   "outputs": [
    {
     "name": "stderr",
     "output_type": "stream",
     "text": [
      "/home/timetraveller05/.local/lib/python3.5/site-packages/sklearn/utils/validation.py:724: DataConversionWarning: A column-vector y was passed when a 1d array was expected. Please change the shape of y to (n_samples, ), for example using ravel().\n",
      "  y = column_or_1d(y, warn=True)\n"
     ]
    },
    {
     "data": {
      "text/plain": [
       "0.9723756906077348"
      ]
     },
     "execution_count": 95,
     "metadata": {},
     "output_type": "execute_result"
    }
   ],
   "source": [
    "scaler = StandardScaler()\n",
    "scaler.fit(x_train)\n",
    "x_train = scaler.transform(x_train)\n",
    "x_test = scaler.transform(x_test)\n",
    "\n",
    "clf = SVC(gamma='auto', kernel='linear')\n",
    "clf.fit(x_train, y_train)\n",
    "\n",
    "y_pred = clf.predict(x_test)\n",
    "clf.score(x_test, y_test)"
   ]
  },
  {
   "cell_type": "code",
   "execution_count": 96,
   "metadata": {},
   "outputs": [
    {
     "name": "stdout",
     "output_type": "stream",
     "text": [
      "[[20  0  0  0  0  0  0  0  0]\n",
      " [ 2 12  0  0  0  0  0  0  0]\n",
      " [ 0  0 18  0  0  0  0  0  0]\n",
      " [ 0  0  0 24  0  0  0  0  0]\n",
      " [ 0  0  0  0 20  0  1  0  0]\n",
      " [ 0  0  0  0  0 28  0  0  0]\n",
      " [ 0  0  0  0  0  0 18  0  0]\n",
      " [ 0  2  0  0  0  0  0 17  0]\n",
      " [ 0  0  0  0  0  0  0  0 19]]\n"
     ]
    },
    {
     "data": {
      "text/plain": [
       "[Text(0, 0, ''),\n",
       " Text(0, 0, 'dialect_1'),\n",
       " Text(0, 0, 'dialect_2'),\n",
       " Text(0, 0, 'dialect_3'),\n",
       " Text(0, 0, 'dialect_4'),\n",
       " Text(0, 0, 'dialect_5'),\n",
       " Text(0, 0, 'dialect_6'),\n",
       " Text(0, 0, 'dialect_7'),\n",
       " Text(0, 0, 'dialect_8'),\n",
       " Text(0, 0, 'dialect_9')]"
      ]
     },
     "execution_count": 96,
     "metadata": {},
     "output_type": "execute_result"
    },
    {
     "data": {
      "image/png": "[encoded data removed]",
      "text/plain": [
       "<Figure size 720x720 with 2 Axes>"
      ]
     },
     "metadata": {
      "needs_background": "light"
     },
     "output_type": "display_data"
    }
   ],
   "source": [
    "cm = confusion_matrix(y_test, y_pred)\n",
    "print(cm)\n",
    "dialects = ['dialect_1', 'dialect_2', 'dialect_3', 'dialect_4', 'dialect_5', 'dialect_6', 'dialect_7', 'dialect_8', 'dialect_9']\n",
    "fig = plt.figure(figsize=(10, 10))\n",
    "ax = fig.add_subplot(111)\n",
    "cax = ax.matshow(cm, interpolation='nearest', cmap=plt.cm.Blues)\n",
    "fig.colorbar(cax)\n",
    "ax.set_xticklabels([\"\"] + dialects)\n",
    "ax.set_yticklabels([\"\"] + dialects)\n"
   ]
  },
  {
   "cell_type": "code",
   "execution_count": 97,
   "metadata": {},
   "outputs": [
    {
     "name": "stderr",
     "output_type": "stream",
     "text": [
      "/home/timetraveller05/.local/lib/python3.5/site-packages/sklearn/utils/validation.py:724: DataConversionWarning: A column-vector y was passed when a 1d array was expected. Please change the shape of y to (n_samples, ), for example using ravel().\n",
      "  y = column_or_1d(y, warn=True)\n",
      "/home/timetraveller05/.local/lib/python3.5/site-packages/sklearn/linear_model/logistic.py:469: FutureWarning: Default multi_class will be changed to 'auto' in 0.22. Specify the multi_class option to silence this warning.\n",
      "  \"this warning.\", FutureWarning)\n"
     ]
    },
    {
     "data": {
      "text/plain": [
       "0.9613259668508287"
      ]
     },
     "execution_count": 97,
     "metadata": {},
     "output_type": "execute_result"
    }
   ],
   "source": [
    "lr = LogisticRegression(solver='lbfgs')\n",
    "lr.fit(x_train, y_train)\n",
    "y_pred = lr.predict(x_test)\n",
    "lr.score(x_test, y_test)"
   ]
  },
  {
   "cell_type": "code",
   "execution_count": 98,
   "metadata": {},
   "outputs": [
    {
     "name": "stdout",
     "output_type": "stream",
     "text": [
      "[[20  0  0  0  0  0  0  0  0]\n",
      " [ 0 12  1  0  1  0  0  0  0]\n",
      " [ 0  0 17  0  0  0  0  1  0]\n",
      " [ 0  0  0 24  0  0  0  0  0]\n",
      " [ 0  0  0  0 20  0  1  0  0]\n",
      " [ 0  0  0  0  0 28  0  0  0]\n",
      " [ 0  0  0  0  0  0 18  0  0]\n",
      " [ 0  2  0  0  0  0  0 17  0]\n",
      " [ 0  0  1  0  0  0  0  0 18]]\n"
     ]
    },
    {
     "data": {
      "text/plain": [
       "[Text(0, 0, ''),\n",
       " Text(0, 0, 'dialect_1'),\n",
       " Text(0, 0, 'dialect_2'),\n",
       " Text(0, 0, 'dialect_3'),\n",
       " Text(0, 0, 'dialect_4'),\n",
       " Text(0, 0, 'dialect_5'),\n",
       " Text(0, 0, 'dialect_6'),\n",
       " Text(0, 0, 'dialect_7'),\n",
       " Text(0, 0, 'dialect_8'),\n",
       " Text(0, 0, 'dialect_9')]"
      ]
     },
     "execution_count": 98,
     "metadata": {},
     "output_type": "execute_result"
    },
    {
     "data": {
      "image/png": "[encoded data removed]",
      "text/plain": [
       "<Figure size 720x720 with 2 Axes>"
      ]
     },
     "metadata": {
      "needs_background": "light"
     },
     "output_type": "display_data"
    }
   ],
   "source": [
    "cm = confusion_matrix(y_test, y_pred)\n",
    "print(cm)\n",
    "dialects = ['dialect_1', 'dialect_2', 'dialect_3', 'dialect_4', 'dialect_5', 'dialect_6', 'dialect_7', 'dialect_8', 'dialect_9']\n",
    "fig = plt.figure(figsize=(10, 10))\n",
    "ax = fig.add_subplot(111)\n",
    "cax = ax.matshow(cm, interpolation='nearest', cmap=plt.cm.Blues)\n",
    "fig.colorbar(cax)\n",
    "ax.set_xticklabels([\"\"] + dialects)\n",
    "ax.set_yticklabels([\"\"] + dialects)\n"
   ]
  },
  {
   "cell_type": "code",
   "execution_count": 99,
   "metadata": {},
   "outputs": [
    {
     "name": "stderr",
     "output_type": "stream",
     "text": [
      "/home/timetraveller05/.local/lib/python3.5/site-packages/ipykernel_launcher.py:2: DataConversionWarning: A column-vector y was passed when a 1d array was expected. Please change the shape of y to (n_samples, ), for example using ravel().\n",
      "  \n"
     ]
    },
    {
     "data": {
      "text/plain": [
       "0.9668508287292817"
      ]
     },
     "execution_count": 99,
     "metadata": {},
     "output_type": "execute_result"
    }
   ],
   "source": [
    "knn = KNeighborsClassifier(n_neighbors=5, metric='euclidean')\n",
    "knn.fit(x_train, y_train)\n",
    "y_pred = knn.predict(x_test)\n",
    "knn.score(x_test, y_test)"
   ]
  },
  {
   "cell_type": "code",
   "execution_count": 100,
   "metadata": {},
   "outputs": [
    {
     "name": "stdout",
     "output_type": "stream",
     "text": [
      "[[20  0  0  0  0  0  0  0  0]\n",
      " [ 0 11  2  0  1  0  0  0  0]\n",
      " [ 0  0 18  0  0  0  0  0  0]\n",
      " [ 0  0  0 23  0  0  0  0  1]\n",
      " [ 0  0  0  0 21  0  0  0  0]\n",
      " [ 1  0  0  0  0 27  0  0  0]\n",
      " [ 0  0  0  0  0  0 18  0  0]\n",
      " [ 0  1  0  0  0  0  0 18  0]\n",
      " [ 0  0  0  0  0  0  0  0 19]]\n"
     ]
    },
    {
     "data": {
      "text/plain": [
       "[Text(0, 0, ''),\n",
       " Text(0, 0, 'dialect_1'),\n",
       " Text(0, 0, 'dialect_2'),\n",
       " Text(0, 0, 'dialect_3'),\n",
       " Text(0, 0, 'dialect_4'),\n",
       " Text(0, 0, 'dialect_5'),\n",
       " Text(0, 0, 'dialect_6'),\n",
       " Text(0, 0, 'dialect_7'),\n",
       " Text(0, 0, 'dialect_8'),\n",
       " Text(0, 0, 'dialect_9')]"
      ]
     },
     "execution_count": 100,
     "metadata": {},
     "output_type": "execute_result"
    },
    {
     "data": {
      "image/png": "[encoded data removed]",
      "text/plain": [
       "<Figure size 720x720 with 2 Axes>"
      ]
     },
     "metadata": {
      "needs_background": "light"
     },
     "output_type": "display_data"
    }
   ],
   "source": [
    "cm = confusion_matrix(y_test, y_pred)\n",
    "print(cm)\n",
    "dialects = ['dialect_1', 'dialect_2', 'dialect_3', 'dialect_4', 'dialect_5', 'dialect_6', 'dialect_7', 'dialect_8', 'dialect_9']\n",
    "fig = plt.figure(figsize=(10, 10))\n",
    "ax = fig.add_subplot(111)\n",
    "cax = ax.matshow(cm, interpolation='nearest', cmap=plt.cm.Blues)\n",
    "fig.colorbar(cax)\n",
    "ax.set_xticklabels([\"\"] + dialects)\n",
    "ax.set_yticklabels([\"\"] + dialects)\n"
   ]
  },
  {
   "cell_type": "code",
   "execution_count": 101,
   "metadata": {},
   "outputs": [
    {
     "name": "stderr",
     "output_type": "stream",
     "text": [
      "/home/timetraveller05/.local/lib/python3.5/site-packages/ipykernel_launcher.py:2: DataConversionWarning: A column-vector y was passed when a 1d array was expected. Please change the shape of y to (n_samples, ), for example using ravel().\n",
      "  \n"
     ]
    },
    {
     "data": {
      "text/plain": [
       "0.988950276243094"
      ]
     },
     "execution_count": 101,
     "metadata": {},
     "output_type": "execute_result"
    }
   ],
   "source": [
    "knn = KNeighborsClassifier(n_neighbors=3, metric='euclidean')\n",
    "knn.fit(x_train, y_train)\n",
    "knn.score(x_test, y_test)"
   ]
  },
  {
   "cell_type": "code",
   "execution_count": 102,
   "metadata": {},
   "outputs": [
    {
     "name": "stdout",
     "output_type": "stream",
     "text": [
      "[[20  0  0  0  0  0  0  0  0]\n",
      " [ 0 11  2  0  1  0  0  0  0]\n",
      " [ 0  0 18  0  0  0  0  0  0]\n",
      " [ 0  0  0 23  0  0  0  0  1]\n",
      " [ 0  0  0  0 21  0  0  0  0]\n",
      " [ 1  0  0  0  0 27  0  0  0]\n",
      " [ 0  0  0  0  0  0 18  0  0]\n",
      " [ 0  1  0  0  0  0  0 18  0]\n",
      " [ 0  0  0  0  0  0  0  0 19]]\n"
     ]
    },
    {
     "data": {
      "text/plain": [
       "[Text(0, 0, ''),\n",
       " Text(0, 0, 'dialect_1'),\n",
       " Text(0, 0, 'dialect_2'),\n",
       " Text(0, 0, 'dialect_3'),\n",
       " Text(0, 0, 'dialect_4'),\n",
       " Text(0, 0, 'dialect_5'),\n",
       " Text(0, 0, 'dialect_6'),\n",
       " Text(0, 0, 'dialect_7'),\n",
       " Text(0, 0, 'dialect_8'),\n",
       " Text(0, 0, 'dialect_9')]"
      ]
     },
     "execution_count": 102,
     "metadata": {},
     "output_type": "execute_result"
    },
    {
     "data": {
      "image/png": "[encoded data removed]",
      "text/plain": [
       "<Figure size 720x720 with 2 Axes>"
      ]
     },
     "metadata": {
      "needs_background": "light"
     },
     "output_type": "display_data"
    }
   ],
   "source": [
    "cm = confusion_matrix(y_test, y_pred)\n",
    "print(cm)\n",
    "dialects = ['dialect_1', 'dialect_2', 'dialect_3', 'dialect_4', 'dialect_5', 'dialect_6', 'dialect_7', 'dialect_8', 'dialect_9']\n",
    "fig = plt.figure(figsize=(10, 10))\n",
    "ax = fig.add_subplot(111)\n",
    "cax = ax.matshow(cm, interpolation='nearest', cmap=plt.cm.Blues)\n",
    "fig.colorbar(cax)\n",
    "ax.set_xticklabels([\"\"] + dialects)\n",
    "ax.set_yticklabels([\"\"] + dialects)\n"
   ]
  },
  {
   "cell_type": "code",
   "execution_count": null,
   "metadata": {},
   "outputs": [],
   "source": []
  }
 ],
 "metadata": {
  "kernelspec": {
   "display_name": "Python 3",
   "language": "python",
   "name": "python3"
  },
  "language_info": {
   "codemirror_mode": {
    "name": "ipython",
    "version": 3
   },
   "file_extension": ".py",
   "mimetype": "text/x-python",
   "name": "python",
   "nbconvert_exporter": "python",
   "pygments_lexer": "ipython3",
   "version": "3.5.2"
  }
 },
 "nbformat": 4,
 "nbformat_minor": 2
}
