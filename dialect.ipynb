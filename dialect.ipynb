{
 "cells": [
  {
   "cell_type": "code",
   "execution_count": 1,
   "metadata": {},
   "outputs": [],
   "source": [
    "import numpy as np\n",
    "import pandas as pd\n",
    "import IPython.display as ipd\n",
    "import scipy.io.wavfile as wav\n",
    "from scipy.fftpack import dct\n",
    "from zipfile import ZipFile\n",
    "import matplotlib.pyplot as plt\n",
    "from scipy.stats import skew\n",
    "import os,glob\n",
    "from sklearn.model_selection import train_test_split\n",
    "from sklearn.svm import SVC\n",
    "from sklearn.preprocessing import StandardScaler\n",
    "from sklearn.linear_model import LogisticRegression\n",
    "from sklearn.neighbors import KNeighborsClassifier\n",
    "from sklearn.metrics import confusion_matrix"
   ]
  },
  {
   "cell_type": "markdown",
   "metadata": {},
   "source": [
    "#### The function below returns a dataframe containing all file paths and their corresponding label"
   ]
  },
  {
   "cell_type": "code",
   "execution_count": 2,
   "metadata": {},
   "outputs": [],
   "source": [
    "def generate_path(base_path):\n",
    "    temp = []\n",
    "    for types in dialects: \n",
    "        df = pd.DataFrame()\n",
    "        base_dir = base_path + str(types)\n",
    "        files = glob.glob(base_dir+'/*.wav')\n",
    "        y = [types]*len(files)\n",
    "        df[\"FILE\"] = files\n",
    "        df[\"OUTPUT\"] = y\n",
    "        temp.append(df)\n",
    "    return pd.concat(temp).reset_index(drop=True)"
   ]
  },
  {
   "cell_type": "code",
   "execution_count": 3,
   "metadata": {},
   "outputs": [],
   "source": [
    "def generate_audio_frames(fs,audio,frameSize,frameOverlap):\n",
    "    frameLen, frameLap = int(round(fs*frameSize)), int(round(fs*frameOverlap))\n",
    "    audioLen = len(audio)\n",
    "    paddingLen = frameLap - (audioLen - frameLen) % frameLap #making number of frames even\n",
    "    paddedAudio = np.concatenate((audio, np.zeros(paddingLen)), axis = 0)\n",
    "    audioLen = len(paddedAudio)\n",
    "    numberOfFrames = int(np.floor((audioLen - frameLen)/frameLap) + 1)\n",
    "    indices = np.tile(np.arange(0, frameLen), (numberOfFrames, 1)) + np.tile((np.arange(0, numberOfFrames*frameLap, frameLap)), (frameLen, 1)).T\n",
    "    frames = paddedAudio[indices]\n",
    "    return frames, frameLen"
   ]
  },
  {
   "cell_type": "code",
   "execution_count": 4,
   "metadata": {},
   "outputs": [],
   "source": [
    "def apply_hamming(frames,frameLen):\n",
    "    frames = frames * np.hamming(frameLen)\n",
    "    return frames"
   ]
  },
  {
   "cell_type": "code",
   "execution_count": 5,
   "metadata": {},
   "outputs": [],
   "source": [
    "def power_spectrum(frames, nfft):\n",
    "    mag_frames = np.absolute(np.fft.rfft(frames, nfft))  # Magnitude of the FFT\n",
    "    pow_frames = np.square(mag_frames)/nfft  # Power Spectrum\n",
    "    return pow_frames"
   ]
  },
  {
   "cell_type": "code",
   "execution_count": 6,
   "metadata": {},
   "outputs": [],
   "source": [
    "def generate_filter_bank(fs,num_banks,nfft):\n",
    "    \n",
    "    hz_to_mel = lambda x: (2595 * np.log10(1 + (x / 2) / 700))\n",
    "    mel_to_hz = lambda x: (700*(np.power(10, x/2595) - 1))\n",
    "    \n",
    "    lower_mel = 0\n",
    "    upper_mel = hz_to_mel(fs)\n",
    "    mel_points = np.linspace(lower_mel, upper_mel, num_banks + 2)\n",
    "    hz_points = mel_to_hz(mel_points)\n",
    "    bins = np.floor((nfft + 1) * hz_points/fs)\n",
    "    \n",
    "    fbank = np.zeros((num_banks, int(np.floor(nfft/2 + 1))))\n",
    "    for m in range(1, num_banks + 1):\n",
    "        left = int(bins[m - 1])\n",
    "        center = int(bins[m])\n",
    "        right = int(bins[m + 1])\n",
    "        for k in range(left, center):\n",
    "            fbank[m - 1, k] = (k - bins[m - 1])/(bins[m] - bins[m - 1])\n",
    "        for k in range(center, right):\n",
    "            fbank[m - 1, k] = (bins[m + 1] - k)/(bins[m + 1] - bins[m])\n",
    "    return fbank"
   ]
  },
  {
   "cell_type": "code",
   "execution_count": 7,
   "metadata": {},
   "outputs": [],
   "source": [
    "def apply_filter_banks(power_frames,fbank):\n",
    "    filter_banks = np.dot(power_frames, fbank.T)\n",
    "    #for numerical stability\n",
    "    filter_banks = np.where(filter_banks == 0, np.finfo(float).eps, filter_banks) #if condition is true, return eps, else return original val\n",
    "    filter_banks = 20*np.log10(filter_banks)\n",
    "    return filter_banks"
   ]
  },
  {
   "cell_type": "code",
   "execution_count": 8,
   "metadata": {},
   "outputs": [],
   "source": [
    "def generate_mfcc(filterBanks,num_ceps):\n",
    "    mfcc = dct(filterBanks, type = 2, axis = 1, norm = 'ortho')[:, 1:(num_ceps + 1)]\n",
    "    return mfcc  "
   ]
  },
  {
   "cell_type": "code",
   "execution_count": 9,
   "metadata": {},
   "outputs": [],
   "source": [
    "def audio_feature_extraction(audio_path,frameLen,frameOverlap,nfft,num_fbanks,num_ceps):\n",
    "    fs, audio = wav.read(audio_path)\n",
    "    frm,frmlen = generate_audio_frames(fs,audio,frameLen,frameOverlap)\n",
    "    frm = apply_hamming(frm,frmlen)\n",
    "    pow_frm = power_spectrum(frm,nfft)\n",
    "    fbank = generate_filter_bank(fs,num_fbanks,nfft)\n",
    "    filter_banks = apply_filter_banks(pow_frm,fbank)\n",
    "    mfcc = generate_mfcc(filter_banks,num_ceps)\n",
    "    return mfcc"
   ]
  },
  {
   "cell_type": "code",
   "execution_count": 10,
   "metadata": {},
   "outputs": [],
   "source": [
    "framelength = 0.025\n",
    "frameoverlap = 0.015\n",
    "nfft = 512\n",
    "num_fbanks = 40\n",
    "num_ceps = 20\n",
    "N = 2\n",
    "dialects = [1,2,3,4,5,6,7,8,9]\n",
    "dataset_path = \"dataset/IDR\""
   ]
  },
  {
   "cell_type": "code",
   "execution_count": 11,
   "metadata": {},
   "outputs": [
    {
     "data": {
      "text/html": [
       "<div>\n",
       "<style scoped>\n",
       "    .dataframe tbody tr th:only-of-type {\n",
       "        vertical-align: middle;\n",
       "    }\n",
       "\n",
       "    .dataframe tbody tr th {\n",
       "        vertical-align: top;\n",
       "    }\n",
       "\n",
       "    .dataframe thead th {\n",
       "        text-align: right;\n",
       "    }\n",
       "</style>\n",
       "<table border=\"1\" class=\"dataframe\">\n",
       "  <thead>\n",
       "    <tr style=\"text-align: right;\">\n",
       "      <th></th>\n",
       "      <th>FILE</th>\n",
       "      <th>OUTPUT</th>\n",
       "    </tr>\n",
       "  </thead>\n",
       "  <tbody>\n",
       "    <tr>\n",
       "      <th>598</th>\n",
       "      <td>dataset/IDR9/21.wav</td>\n",
       "      <td>9</td>\n",
       "    </tr>\n",
       "    <tr>\n",
       "      <th>599</th>\n",
       "      <td>dataset/IDR9/11.wav</td>\n",
       "      <td>9</td>\n",
       "    </tr>\n",
       "    <tr>\n",
       "      <th>600</th>\n",
       "      <td>dataset/IDR9/17.wav</td>\n",
       "      <td>9</td>\n",
       "    </tr>\n",
       "    <tr>\n",
       "      <th>601</th>\n",
       "      <td>dataset/IDR9/65.wav</td>\n",
       "      <td>9</td>\n",
       "    </tr>\n",
       "    <tr>\n",
       "      <th>602</th>\n",
       "      <td>dataset/IDR9/14.wav</td>\n",
       "      <td>9</td>\n",
       "    </tr>\n",
       "  </tbody>\n",
       "</table>\n",
       "</div>"
      ],
      "text/plain": [
       "                    FILE  OUTPUT\n",
       "598  dataset/IDR9/21.wav       9\n",
       "599  dataset/IDR9/11.wav       9\n",
       "600  dataset/IDR9/17.wav       9\n",
       "601  dataset/IDR9/65.wav       9\n",
       "602  dataset/IDR9/14.wav       9"
      ]
     },
     "execution_count": 11,
     "metadata": {},
     "output_type": "execute_result"
    }
   ],
   "source": [
    "dataset = generate_path(dataset_path)\n",
    "dataset.tail()"
   ]
  },
  {
   "cell_type": "code",
   "execution_count": 12,
   "metadata": {},
   "outputs": [],
   "source": [
    "num = 0\n",
    "test = dataset[\"FILE\"][num]\n",
    "mfcc = audio_feature_extraction(test,framelength,frameoverlap,nfft,num_fbanks,num_ceps)"
   ]
  },
  {
   "cell_type": "code",
   "execution_count": 13,
   "metadata": {},
   "outputs": [
    {
     "name": "stdout",
     "output_type": "stream",
     "text": [
      "20\n"
     ]
    },
    {
     "data": {
      "text/plain": [
       "(603, 2)"
      ]
     },
     "execution_count": 13,
     "metadata": {},
     "output_type": "execute_result"
    }
   ],
   "source": [
    "print(len(mfcc[0]))\n",
    "dataset.shape"
   ]
  },
  {
   "cell_type": "code",
   "execution_count": 14,
   "metadata": {},
   "outputs": [],
   "source": [
    "features = {\n",
    "    \"mean\" : lambda x: np.mean(x,axis=0),\n",
    "    \"min\" : lambda x: np.min(x,axis=0),\n",
    "    \"max\" : lambda x: np.max(x,axis=0),\n",
    "    \"std_dev\" : lambda x: np.std(x,axis=0),\n",
    "    \"median\" : lambda x: np.median(x,axis=0)\n",
    "}"
   ]
  },
  {
   "cell_type": "code",
   "execution_count": 15,
   "metadata": {},
   "outputs": [],
   "source": [
    "def generate_model_data(df,size=100):\n",
    "    df = df.sample(frac=1).reset_index(drop=True)\n",
    "    col = []\n",
    "    y = []\n",
    "    for key in features.keys():\n",
    "        for i in range(1,num_ceps+1):\n",
    "            col.append(key + str(i))\n",
    "    rows = []\n",
    "    for index, row in df.iterrows():\n",
    "        if(index<size):\n",
    "            temp = []\n",
    "            y.append(row[\"OUTPUT\"])\n",
    "            path = row[\"FILE\"]\n",
    "            mfcc = audio_feature_extraction(path,framelength,frameoverlap,nfft,num_fbanks,num_ceps)\n",
    "            for key in features.keys():\n",
    "                temp.append(features[key](mfcc))\n",
    "            rows.append(np.concatenate(temp))\n",
    "        else:\n",
    "            break\n",
    "    feat = pd.DataFrame(rows)\n",
    "    feat.columns = col\n",
    "    feat[\"OUTPUT\"] = y\n",
    "    return feat"
   ]
  },
  {
   "cell_type": "code",
   "execution_count": 16,
   "metadata": {},
   "outputs": [],
   "source": [
    "df = generate_model_data(dataset,602)"
   ]
  },
  {
   "cell_type": "code",
   "execution_count": 17,
   "metadata": {},
   "outputs": [
    {
     "data": {
      "text/plain": [
       "(602, 101)"
      ]
     },
     "execution_count": 17,
     "metadata": {},
     "output_type": "execute_result"
    }
   ],
   "source": [
    "df.shape"
   ]
  },
  {
   "cell_type": "code",
   "execution_count": 18,
   "metadata": {
    "scrolled": true
   },
   "outputs": [
    {
     "data": {
      "text/html": [
       "<div>\n",
       "<style scoped>\n",
       "    .dataframe tbody tr th:only-of-type {\n",
       "        vertical-align: middle;\n",
       "    }\n",
       "\n",
       "    .dataframe tbody tr th {\n",
       "        vertical-align: top;\n",
       "    }\n",
       "\n",
       "    .dataframe thead th {\n",
       "        text-align: right;\n",
       "    }\n",
       "</style>\n",
       "<table border=\"1\" class=\"dataframe\">\n",
       "  <thead>\n",
       "    <tr style=\"text-align: right;\">\n",
       "      <th></th>\n",
       "      <th>min1</th>\n",
       "      <th>min2</th>\n",
       "      <th>min3</th>\n",
       "      <th>min4</th>\n",
       "      <th>min5</th>\n",
       "      <th>min6</th>\n",
       "      <th>min7</th>\n",
       "      <th>min8</th>\n",
       "      <th>min9</th>\n",
       "      <th>min10</th>\n",
       "      <th>...</th>\n",
       "      <th>mean12</th>\n",
       "      <th>mean13</th>\n",
       "      <th>mean14</th>\n",
       "      <th>mean15</th>\n",
       "      <th>mean16</th>\n",
       "      <th>mean17</th>\n",
       "      <th>mean18</th>\n",
       "      <th>mean19</th>\n",
       "      <th>mean20</th>\n",
       "      <th>OUTPUT</th>\n",
       "    </tr>\n",
       "  </thead>\n",
       "  <tbody>\n",
       "    <tr>\n",
       "      <th>0</th>\n",
       "      <td>-133.654449</td>\n",
       "      <td>-124.766848</td>\n",
       "      <td>-66.404362</td>\n",
       "      <td>-103.154363</td>\n",
       "      <td>-92.990992</td>\n",
       "      <td>-58.051818</td>\n",
       "      <td>-74.824715</td>\n",
       "      <td>-71.897294</td>\n",
       "      <td>-51.286179</td>\n",
       "      <td>-47.062376</td>\n",
       "      <td>...</td>\n",
       "      <td>-4.983767</td>\n",
       "      <td>2.954767</td>\n",
       "      <td>-8.264803</td>\n",
       "      <td>-8.551174</td>\n",
       "      <td>-5.573370</td>\n",
       "      <td>3.049396</td>\n",
       "      <td>-7.971127</td>\n",
       "      <td>0.968126</td>\n",
       "      <td>-1.243346</td>\n",
       "      <td>6</td>\n",
       "    </tr>\n",
       "    <tr>\n",
       "      <th>1</th>\n",
       "      <td>-157.368469</td>\n",
       "      <td>-105.296865</td>\n",
       "      <td>-59.395339</td>\n",
       "      <td>-105.663361</td>\n",
       "      <td>-77.493790</td>\n",
       "      <td>-85.186383</td>\n",
       "      <td>-61.395637</td>\n",
       "      <td>-51.978835</td>\n",
       "      <td>-49.136735</td>\n",
       "      <td>-33.592887</td>\n",
       "      <td>...</td>\n",
       "      <td>-10.831292</td>\n",
       "      <td>-9.902400</td>\n",
       "      <td>-2.780445</td>\n",
       "      <td>4.923274</td>\n",
       "      <td>-1.679739</td>\n",
       "      <td>2.711364</td>\n",
       "      <td>2.685564</td>\n",
       "      <td>1.929797</td>\n",
       "      <td>5.861003</td>\n",
       "      <td>3</td>\n",
       "    </tr>\n",
       "    <tr>\n",
       "      <th>2</th>\n",
       "      <td>-122.299748</td>\n",
       "      <td>-62.564712</td>\n",
       "      <td>-51.332158</td>\n",
       "      <td>-73.030893</td>\n",
       "      <td>-79.848154</td>\n",
       "      <td>-58.648316</td>\n",
       "      <td>-70.294011</td>\n",
       "      <td>-48.197804</td>\n",
       "      <td>-49.690388</td>\n",
       "      <td>-37.535692</td>\n",
       "      <td>...</td>\n",
       "      <td>-7.744991</td>\n",
       "      <td>0.716085</td>\n",
       "      <td>-13.573827</td>\n",
       "      <td>-1.814238</td>\n",
       "      <td>-2.322193</td>\n",
       "      <td>-0.511391</td>\n",
       "      <td>-4.681919</td>\n",
       "      <td>2.117251</td>\n",
       "      <td>-3.298664</td>\n",
       "      <td>9</td>\n",
       "    </tr>\n",
       "    <tr>\n",
       "      <th>3</th>\n",
       "      <td>-112.952724</td>\n",
       "      <td>-67.574278</td>\n",
       "      <td>-64.023185</td>\n",
       "      <td>-99.344716</td>\n",
       "      <td>-98.578406</td>\n",
       "      <td>-84.416888</td>\n",
       "      <td>-80.456284</td>\n",
       "      <td>-51.773816</td>\n",
       "      <td>-56.645538</td>\n",
       "      <td>-48.075426</td>\n",
       "      <td>...</td>\n",
       "      <td>-7.837688</td>\n",
       "      <td>-8.494401</td>\n",
       "      <td>-4.137042</td>\n",
       "      <td>-0.304219</td>\n",
       "      <td>2.162240</td>\n",
       "      <td>2.696986</td>\n",
       "      <td>1.052170</td>\n",
       "      <td>5.463102</td>\n",
       "      <td>4.673769</td>\n",
       "      <td>8</td>\n",
       "    </tr>\n",
       "    <tr>\n",
       "      <th>4</th>\n",
       "      <td>-94.973888</td>\n",
       "      <td>-82.355866</td>\n",
       "      <td>-55.818466</td>\n",
       "      <td>-65.811540</td>\n",
       "      <td>-83.795501</td>\n",
       "      <td>-72.492198</td>\n",
       "      <td>-66.788422</td>\n",
       "      <td>-56.272560</td>\n",
       "      <td>-55.800913</td>\n",
       "      <td>-48.119947</td>\n",
       "      <td>...</td>\n",
       "      <td>-5.097793</td>\n",
       "      <td>0.666423</td>\n",
       "      <td>-8.982806</td>\n",
       "      <td>1.192225</td>\n",
       "      <td>0.257246</td>\n",
       "      <td>-0.774131</td>\n",
       "      <td>-2.441070</td>\n",
       "      <td>1.169400</td>\n",
       "      <td>-1.055609</td>\n",
       "      <td>8</td>\n",
       "    </tr>\n",
       "    <tr>\n",
       "      <th>5</th>\n",
       "      <td>-112.925921</td>\n",
       "      <td>-132.253649</td>\n",
       "      <td>-67.406178</td>\n",
       "      <td>-127.660458</td>\n",
       "      <td>-82.699965</td>\n",
       "      <td>-91.349131</td>\n",
       "      <td>-86.673504</td>\n",
       "      <td>-49.609484</td>\n",
       "      <td>-56.431544</td>\n",
       "      <td>-38.765330</td>\n",
       "      <td>...</td>\n",
       "      <td>-9.403626</td>\n",
       "      <td>-10.474004</td>\n",
       "      <td>-10.739383</td>\n",
       "      <td>-0.718926</td>\n",
       "      <td>-2.951688</td>\n",
       "      <td>-1.483385</td>\n",
       "      <td>-3.181952</td>\n",
       "      <td>-3.614115</td>\n",
       "      <td>-1.682638</td>\n",
       "      <td>3</td>\n",
       "    </tr>\n",
       "    <tr>\n",
       "      <th>6</th>\n",
       "      <td>-100.993689</td>\n",
       "      <td>-71.481583</td>\n",
       "      <td>-54.342844</td>\n",
       "      <td>-81.114906</td>\n",
       "      <td>-84.564753</td>\n",
       "      <td>-86.584564</td>\n",
       "      <td>-65.969053</td>\n",
       "      <td>-52.261762</td>\n",
       "      <td>-59.292812</td>\n",
       "      <td>-33.706144</td>\n",
       "      <td>...</td>\n",
       "      <td>-9.235409</td>\n",
       "      <td>-4.128483</td>\n",
       "      <td>-12.992337</td>\n",
       "      <td>-8.332356</td>\n",
       "      <td>-3.004627</td>\n",
       "      <td>-2.796508</td>\n",
       "      <td>-4.285779</td>\n",
       "      <td>0.622336</td>\n",
       "      <td>-6.234371</td>\n",
       "      <td>2</td>\n",
       "    </tr>\n",
       "    <tr>\n",
       "      <th>7</th>\n",
       "      <td>-138.503809</td>\n",
       "      <td>-121.098139</td>\n",
       "      <td>-90.154124</td>\n",
       "      <td>-93.623667</td>\n",
       "      <td>-93.923306</td>\n",
       "      <td>-69.749650</td>\n",
       "      <td>-52.800855</td>\n",
       "      <td>-55.814689</td>\n",
       "      <td>-49.617244</td>\n",
       "      <td>-45.904332</td>\n",
       "      <td>...</td>\n",
       "      <td>2.352544</td>\n",
       "      <td>0.228288</td>\n",
       "      <td>-1.218833</td>\n",
       "      <td>7.094259</td>\n",
       "      <td>3.340393</td>\n",
       "      <td>2.657341</td>\n",
       "      <td>5.765868</td>\n",
       "      <td>2.788381</td>\n",
       "      <td>3.373108</td>\n",
       "      <td>1</td>\n",
       "    </tr>\n",
       "    <tr>\n",
       "      <th>8</th>\n",
       "      <td>-127.546579</td>\n",
       "      <td>-91.783022</td>\n",
       "      <td>-40.427500</td>\n",
       "      <td>-73.644954</td>\n",
       "      <td>-64.747860</td>\n",
       "      <td>-78.182384</td>\n",
       "      <td>-59.410470</td>\n",
       "      <td>-56.060427</td>\n",
       "      <td>-40.218911</td>\n",
       "      <td>-37.055446</td>\n",
       "      <td>...</td>\n",
       "      <td>-2.260386</td>\n",
       "      <td>-1.170818</td>\n",
       "      <td>-8.164113</td>\n",
       "      <td>2.591975</td>\n",
       "      <td>2.235885</td>\n",
       "      <td>-1.051936</td>\n",
       "      <td>4.334580</td>\n",
       "      <td>6.254072</td>\n",
       "      <td>3.723669</td>\n",
       "      <td>8</td>\n",
       "    </tr>\n",
       "    <tr>\n",
       "      <th>9</th>\n",
       "      <td>-139.662060</td>\n",
       "      <td>-145.789737</td>\n",
       "      <td>-77.065017</td>\n",
       "      <td>-84.285374</td>\n",
       "      <td>-86.512084</td>\n",
       "      <td>-58.307668</td>\n",
       "      <td>-57.188628</td>\n",
       "      <td>-55.437162</td>\n",
       "      <td>-39.452593</td>\n",
       "      <td>-43.972730</td>\n",
       "      <td>...</td>\n",
       "      <td>-2.790371</td>\n",
       "      <td>-7.309950</td>\n",
       "      <td>-7.278409</td>\n",
       "      <td>5.069192</td>\n",
       "      <td>-0.029169</td>\n",
       "      <td>4.587235</td>\n",
       "      <td>1.510063</td>\n",
       "      <td>4.106049</td>\n",
       "      <td>2.066632</td>\n",
       "      <td>6</td>\n",
       "    </tr>\n",
       "  </tbody>\n",
       "</table>\n",
       "<p>10 rows × 101 columns</p>\n",
       "</div>"
      ],
      "text/plain": [
       "         min1        min2       min3        min4       min5       min6  \\\n",
       "0 -133.654449 -124.766848 -66.404362 -103.154363 -92.990992 -58.051818   \n",
       "1 -157.368469 -105.296865 -59.395339 -105.663361 -77.493790 -85.186383   \n",
       "2 -122.299748  -62.564712 -51.332158  -73.030893 -79.848154 -58.648316   \n",
       "3 -112.952724  -67.574278 -64.023185  -99.344716 -98.578406 -84.416888   \n",
       "4  -94.973888  -82.355866 -55.818466  -65.811540 -83.795501 -72.492198   \n",
       "5 -112.925921 -132.253649 -67.406178 -127.660458 -82.699965 -91.349131   \n",
       "6 -100.993689  -71.481583 -54.342844  -81.114906 -84.564753 -86.584564   \n",
       "7 -138.503809 -121.098139 -90.154124  -93.623667 -93.923306 -69.749650   \n",
       "8 -127.546579  -91.783022 -40.427500  -73.644954 -64.747860 -78.182384   \n",
       "9 -139.662060 -145.789737 -77.065017  -84.285374 -86.512084 -58.307668   \n",
       "\n",
       "        min7       min8       min9      min10   ...       mean12     mean13  \\\n",
       "0 -74.824715 -71.897294 -51.286179 -47.062376   ...    -4.983767   2.954767   \n",
       "1 -61.395637 -51.978835 -49.136735 -33.592887   ...   -10.831292  -9.902400   \n",
       "2 -70.294011 -48.197804 -49.690388 -37.535692   ...    -7.744991   0.716085   \n",
       "3 -80.456284 -51.773816 -56.645538 -48.075426   ...    -7.837688  -8.494401   \n",
       "4 -66.788422 -56.272560 -55.800913 -48.119947   ...    -5.097793   0.666423   \n",
       "5 -86.673504 -49.609484 -56.431544 -38.765330   ...    -9.403626 -10.474004   \n",
       "6 -65.969053 -52.261762 -59.292812 -33.706144   ...    -9.235409  -4.128483   \n",
       "7 -52.800855 -55.814689 -49.617244 -45.904332   ...     2.352544   0.228288   \n",
       "8 -59.410470 -56.060427 -40.218911 -37.055446   ...    -2.260386  -1.170818   \n",
       "9 -57.188628 -55.437162 -39.452593 -43.972730   ...    -2.790371  -7.309950   \n",
       "\n",
       "      mean14    mean15    mean16    mean17    mean18    mean19    mean20  \\\n",
       "0  -8.264803 -8.551174 -5.573370  3.049396 -7.971127  0.968126 -1.243346   \n",
       "1  -2.780445  4.923274 -1.679739  2.711364  2.685564  1.929797  5.861003   \n",
       "2 -13.573827 -1.814238 -2.322193 -0.511391 -4.681919  2.117251 -3.298664   \n",
       "3  -4.137042 -0.304219  2.162240  2.696986  1.052170  5.463102  4.673769   \n",
       "4  -8.982806  1.192225  0.257246 -0.774131 -2.441070  1.169400 -1.055609   \n",
       "5 -10.739383 -0.718926 -2.951688 -1.483385 -3.181952 -3.614115 -1.682638   \n",
       "6 -12.992337 -8.332356 -3.004627 -2.796508 -4.285779  0.622336 -6.234371   \n",
       "7  -1.218833  7.094259  3.340393  2.657341  5.765868  2.788381  3.373108   \n",
       "8  -8.164113  2.591975  2.235885 -1.051936  4.334580  6.254072  3.723669   \n",
       "9  -7.278409  5.069192 -0.029169  4.587235  1.510063  4.106049  2.066632   \n",
       "\n",
       "   OUTPUT  \n",
       "0       6  \n",
       "1       3  \n",
       "2       9  \n",
       "3       8  \n",
       "4       8  \n",
       "5       3  \n",
       "6       2  \n",
       "7       1  \n",
       "8       8  \n",
       "9       6  \n",
       "\n",
       "[10 rows x 101 columns]"
      ]
     },
     "execution_count": 18,
     "metadata": {},
     "output_type": "execute_result"
    }
   ],
   "source": [
    "df.head(10)"
   ]
  },
  {
   "cell_type": "code",
   "execution_count": 19,
   "metadata": {},
   "outputs": [],
   "source": [
    "data_train, data_test = train_test_split(df, test_size=0.3, shuffle=True)\n",
    "x_train = data_train.drop(data_train[['OUTPUT']],axis=1)\n",
    "y_train = data_train[['OUTPUT']]\n",
    "\n",
    "x_test = data_test.drop(data_test[['OUTPUT']],axis=1)\n",
    "y_test = data_test[['OUTPUT']]"
   ]
  },
  {
   "cell_type": "code",
   "execution_count": 20,
   "metadata": {},
   "outputs": [
    {
     "name": "stderr",
     "output_type": "stream",
     "text": [
      "/home/timetraveller05/.local/lib/python3.5/site-packages/sklearn/utils/validation.py:724: DataConversionWarning: A column-vector y was passed when a 1d array was expected. Please change the shape of y to (n_samples, ), for example using ravel().\n",
      "  y = column_or_1d(y, warn=True)\n"
     ]
    },
    {
     "data": {
      "text/plain": [
       "0.988950276243094"
      ]
     },
     "execution_count": 20,
     "metadata": {},
     "output_type": "execute_result"
    }
   ],
   "source": [
    "scaler = StandardScaler()\n",
    "scaler.fit(x_train)\n",
    "x_train = scaler.transform(x_train)\n",
    "x_test = scaler.transform(x_test)\n",
    "\n",
    "clf = SVC(gamma='auto')\n",
    "clf.fit(x_train, y_train)\n",
    "\n",
    "y_pred = clf.predict(x_test)\n",
    "clf.score(x_test, y_test)"
   ]
  },
  {
   "cell_type": "code",
   "execution_count": 21,
   "metadata": {},
   "outputs": [
    {
     "data": {
      "text/plain": [
       "([<matplotlib.axis.XTick at 0x7fc0f1497e48>,\n",
       "  <matplotlib.axis.XTick at 0x7fc0f1497780>,\n",
       "  <matplotlib.axis.XTick at 0x7fc0f14974a8>,\n",
       "  <matplotlib.axis.XTick at 0x7fc0f147dda0>,\n",
       "  <matplotlib.axis.XTick at 0x7fc0f148c2b0>,\n",
       "  <matplotlib.axis.XTick at 0x7fc0f148c780>,\n",
       "  <matplotlib.axis.XTick at 0x7fc0f148cc50>,\n",
       "  <matplotlib.axis.XTick at 0x7fc0f1491198>,\n",
       "  <matplotlib.axis.XTick at 0x7fc0f148c828>],\n",
       " <a list of 9 Text xticklabel objects>)"
      ]
     },
     "execution_count": 21,
     "metadata": {},
     "output_type": "execute_result"
    },
    {
     "data": {
      "image/png": "[encoded data removed]",
      "text/plain": [
       "<Figure size 432x288 with 1 Axes>"
      ]
     },
     "metadata": {
      "needs_background": "light"
     },
     "output_type": "display_data"
    }
   ],
   "source": [
    "cm = confusion_matrix(y_test, y_pred)\n",
    "plt.imshow(cm, interpolation='nearest', cmap=plt.cm.Blues)\n",
    "plt.xticks([0, 1, 2, 3, 4, 5, 6, 7, 8])"
   ]
  },
  {
   "cell_type": "code",
   "execution_count": 22,
   "metadata": {},
   "outputs": [
    {
     "name": "stderr",
     "output_type": "stream",
     "text": [
      "/home/timetraveller05/.local/lib/python3.5/site-packages/sklearn/utils/validation.py:724: DataConversionWarning: A column-vector y was passed when a 1d array was expected. Please change the shape of y to (n_samples, ), for example using ravel().\n",
      "  y = column_or_1d(y, warn=True)\n",
      "/home/timetraveller05/.local/lib/python3.5/site-packages/sklearn/linear_model/logistic.py:469: FutureWarning: Default multi_class will be changed to 'auto' in 0.22. Specify the multi_class option to silence this warning.\n",
      "  \"this warning.\", FutureWarning)\n"
     ]
    },
    {
     "data": {
      "text/plain": [
       "0.9558011049723757"
      ]
     },
     "execution_count": 22,
     "metadata": {},
     "output_type": "execute_result"
    }
   ],
   "source": [
    "lr = LogisticRegression(solver='lbfgs')\n",
    "lr.fit(x_train, y_train)\n",
    "y_pred = lr.predict(x_test)\n",
    "lr.score(x_test, y_test)"
   ]
  },
  {
   "cell_type": "code",
   "execution_count": 23,
   "metadata": {},
   "outputs": [
    {
     "data": {
      "text/plain": [
       "([<matplotlib.axis.XTick at 0x7fc0f1447be0>,\n",
       "  <matplotlib.axis.XTick at 0x7fc0f1447710>,\n",
       "  <matplotlib.axis.XTick at 0x7fc0f15593c8>,\n",
       "  <matplotlib.axis.XTick at 0x7fc0f152ee48>,\n",
       "  <matplotlib.axis.XTick at 0x7fc0f1533358>,\n",
       "  <matplotlib.axis.XTick at 0x7fc0f15336d8>,\n",
       "  <matplotlib.axis.XTick at 0x7fc0f1533ba8>,\n",
       "  <matplotlib.axis.XTick at 0x7fc0f1538128>,\n",
       "  <matplotlib.axis.XTick at 0x7fc0f1538588>],\n",
       " <a list of 9 Text xticklabel objects>)"
      ]
     },
     "execution_count": 23,
     "metadata": {},
     "output_type": "execute_result"
    },
    {
     "data": {
      "image/png": "[encoded data removed]",
      "text/plain": [
       "<Figure size 432x288 with 1 Axes>"
      ]
     },
     "metadata": {
      "needs_background": "light"
     },
     "output_type": "display_data"
    }
   ],
   "source": [
    "cm = confusion_matrix(y_test, y_pred)\n",
    "plt.imshow(cm, interpolation='nearest', cmap=plt.cm.Blues)\n",
    "plt.xticks([0, 1, 2, 3, 4, 5, 6, 7, 8])"
   ]
  },
  {
   "cell_type": "code",
   "execution_count": 24,
   "metadata": {},
   "outputs": [
    {
     "name": "stderr",
     "output_type": "stream",
     "text": [
      "/home/timetraveller05/.local/lib/python3.5/site-packages/ipykernel_launcher.py:2: DataConversionWarning: A column-vector y was passed when a 1d array was expected. Please change the shape of y to (n_samples, ), for example using ravel().\n",
      "  \n"
     ]
    },
    {
     "data": {
      "text/plain": [
       "0.9668508287292817"
      ]
     },
     "execution_count": 24,
     "metadata": {},
     "output_type": "execute_result"
    }
   ],
   "source": [
    "knn = KNeighborsClassifier(n_neighbors=5, metric='euclidean')\n",
    "knn.fit(x_train, y_train)\n",
    "y_pred = knn.predict(x_test)\n",
    "knn.score(x_test, y_test)"
   ]
  },
  {
   "cell_type": "code",
   "execution_count": 25,
   "metadata": {},
   "outputs": [
    {
     "data": {
      "text/plain": [
       "([<matplotlib.axis.XTick at 0x7fc0f14dfc18>,\n",
       "  <matplotlib.axis.XTick at 0x7fc0f14df550>,\n",
       "  <matplotlib.axis.XTick at 0x7fc0f14df278>,\n",
       "  <matplotlib.axis.XTick at 0x7fc0f14f1b38>,\n",
       "  <matplotlib.axis.XTick at 0x7fc0f14f50b8>,\n",
       "  <matplotlib.axis.XTick at 0x7fc0f14f5518>,\n",
       "  <matplotlib.axis.XTick at 0x7fc0f14f59e8>,\n",
       "  <matplotlib.axis.XTick at 0x7fc0f14f5eb8>,\n",
       "  <matplotlib.axis.XTick at 0x7fc0f14fa3c8>],\n",
       " <a list of 9 Text xticklabel objects>)"
      ]
     },
     "execution_count": 25,
     "metadata": {},
     "output_type": "execute_result"
    },
    {
     "data": {
      "image/png": "[encoded data removed]",
      "text/plain": [
       "<Figure size 432x288 with 1 Axes>"
      ]
     },
     "metadata": {
      "needs_background": "light"
     },
     "output_type": "display_data"
    }
   ],
   "source": [
    "cm = confusion_matrix(y_test, y_pred)\n",
    "plt.imshow(cm, interpolation='nearest', cmap=plt.cm.Blues)\n",
    "plt.xticks([0, 1, 2, 3, 4, 5, 6, 7, 8])"
   ]
  },
  {
   "cell_type": "code",
   "execution_count": 26,
   "metadata": {},
   "outputs": [
    {
     "name": "stderr",
     "output_type": "stream",
     "text": [
      "/home/timetraveller05/.local/lib/python3.5/site-packages/ipykernel_launcher.py:2: DataConversionWarning: A column-vector y was passed when a 1d array was expected. Please change the shape of y to (n_samples, ), for example using ravel().\n",
      "  \n"
     ]
    },
    {
     "data": {
      "text/plain": [
       "0.994475138121547"
      ]
     },
     "execution_count": 26,
     "metadata": {},
     "output_type": "execute_result"
    }
   ],
   "source": [
    "knn = KNeighborsClassifier(n_neighbors=3, metric='euclidean')\n",
    "knn.fit(x_train, y_train)\n",
    "knn.score(x_test, y_test)"
   ]
  },
  {
   "cell_type": "code",
   "execution_count": 27,
   "metadata": {},
   "outputs": [
    {
     "data": {
      "text/plain": [
       "([<matplotlib.axis.XTick at 0x7fc0f149f668>,\n",
       "  <matplotlib.axis.XTick at 0x7fc0f1516f60>,\n",
       "  <matplotlib.axis.XTick at 0x7fc0f1516358>,\n",
       "  <matplotlib.axis.XTick at 0x7fc0f14b15f8>,\n",
       "  <matplotlib.axis.XTick at 0x7fc0f14b1978>,\n",
       "  <matplotlib.axis.XTick at 0x7fc0f14b1e48>,\n",
       "  <matplotlib.axis.XTick at 0x7fc0f14b6358>,\n",
       "  <matplotlib.axis.XTick at 0x7fc0f14b6828>,\n",
       "  <matplotlib.axis.XTick at 0x7fc0f14b6cf8>],\n",
       " <a list of 9 Text xticklabel objects>)"
      ]
     },
     "execution_count": 27,
     "metadata": {},
     "output_type": "execute_result"
    },
    {
     "data": {
      "image/png": "[encoded data removed]",
      "text/plain": [
       "<Figure size 432x288 with 1 Axes>"
      ]
     },
     "metadata": {
      "needs_background": "light"
     },
     "output_type": "display_data"
    }
   ],
   "source": [
    "cm = confusion_matrix(y_test, y_pred)\n",
    "plt.imshow(cm, interpolation='nearest', cmap=plt.cm.Blues)\n",
    "plt.xticks([0, 1, 2, 3, 4, 5, 6, 7, 8])"
   ]
  },
  {
   "cell_type": "code",
   "execution_count": null,
   "metadata": {},
   "outputs": [],
   "source": []
  }
 ],
 "metadata": {
  "kernelspec": {
   "display_name": "Python 3",
   "language": "python",
   "name": "python3"
  },
  "language_info": {
   "codemirror_mode": {
    "name": "ipython",
    "version": 3
   },
   "file_extension": ".py",
   "mimetype": "text/x-python",
   "name": "python",
   "nbconvert_exporter": "python",
   "pygments_lexer": "ipython3",
   "version": "3.5.2"
  }
 },
 "nbformat": 4,
 "nbformat_minor": 2
}
