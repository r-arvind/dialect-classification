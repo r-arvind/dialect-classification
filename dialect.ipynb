{
 "cells": [
  {
   "cell_type": "markdown",
   "metadata": {},
   "source": [
    "# Dialect Classification"
   ]
  },
  {
   "cell_type": "code",
   "execution_count": 62,
   "metadata": {},
   "outputs": [],
   "source": [
    "import numpy as np\n",
    "import pandas as pd\n",
    "import IPython.display as ipd\n",
    "import scipy.io.wavfile as wav\n",
    "from scipy.fftpack import dct\n",
    "from zipfile import ZipFile\n",
    "import matplotlib.pyplot as plt\n",
    "from scipy.stats import skew\n",
    "import os,glob\n",
    "from sklearn.model_selection import train_test_split\n",
    "from sklearn.svm import SVC\n",
    "from sklearn.preprocessing import StandardScaler\n",
    "from sklearn.linear_model import LogisticRegression\n",
    "from sklearn.neighbors import KNeighborsClassifier\n",
    "from sklearn.metrics import confusion_matrix"
   ]
  },
  {
   "cell_type": "markdown",
   "metadata": {},
   "source": [
    "#### Initializing essential variables"
   ]
  },
  {
   "cell_type": "code",
   "execution_count": null,
   "metadata": {},
   "outputs": [],
   "source": [
    "# Setting up different variables\n",
    "framelength = 0.025  #each frame is of size 25 milliseconds\n",
    "frameoverlap = 0.015  #15 milliseconds of overlap between two frames\n",
    "nfft = 512   #n for calculation of n-point fft\n",
    "num_fbanks = 40  #number of filter banks\n",
    "num_ceps = 20  #number of mel coefficients for each frame\n",
    "dialects = [1,2,3,4,5,6,7,8,9]  #labels coreesponding to the 9 dialects\n",
    "dataset_path = \"dataset/IDR\"  #location of the dataset"
   ]
  },
  {
   "cell_type": "markdown",
   "metadata": {},
   "source": [
    "#### The function below returns a dataframe containing all file paths and their corresponding label"
   ]
  },
  {
   "cell_type": "code",
   "execution_count": 63,
   "metadata": {},
   "outputs": [],
   "source": [
    "def generate_path(base_path):\n",
    "    temp = []\n",
    "    for types in dialects: \n",
    "        df = pd.DataFrame()\n",
    "        base_dir = base_path + str(types)\n",
    "        files = glob.glob(base_dir+'/*.wav')\n",
    "        y = [types]*len(files)\n",
    "        df[\"FILE\"] = files\n",
    "        df[\"OUTPUT\"] = y\n",
    "        temp.append(df)\n",
    "    return pd.concat(temp).reset_index(drop=True)"
   ]
  },
  {
   "cell_type": "markdown",
   "metadata": {},
   "source": [
    "#### The functions below are used in the computation of the MFC Coefficients"
   ]
  },
  {
   "cell_type": "code",
   "execution_count": 64,
   "metadata": {},
   "outputs": [],
   "source": [
    "#the function takes in an array(audio file) and generates frames of specified size\n",
    "def generate_audio_frames(fs,audio,frameSize,frameOverlap):\n",
    "    frameLen, frameLap = int(round(fs*frameSize)), int(round(fs*frameOverlap))\n",
    "    audioLen = len(audio)\n",
    "    paddingLen = frameLap - (audioLen - frameLen) % frameLap #making number of frames even\n",
    "    paddedAudio = np.concatenate((audio, np.zeros(paddingLen)), axis = 0)\n",
    "    audioLen = len(paddedAudio)\n",
    "    numberOfFrames = int(np.floor((audioLen - frameLen)/frameLap) + 1)\n",
    "    indices = np.tile(np.arange(0, frameLen), (numberOfFrames, 1)) + np.tile((np.arange(0, numberOfFrames*frameLap, frameLap)), (frameLen, 1)).T\n",
    "    frames = paddedAudio[indices]\n",
    "    return frames, frameLen"
   ]
  },
  {
   "cell_type": "code",
   "execution_count": 65,
   "metadata": {},
   "outputs": [],
   "source": [
    "#applies hamming window on the frames\n",
    "def apply_hamming(frames,frameLen):\n",
    "    frames = frames * np.hamming(frameLen)\n",
    "    return frames"
   ]
  },
  {
   "cell_type": "code",
   "execution_count": 66,
   "metadata": {},
   "outputs": [],
   "source": [
    "#computes the power spectrum of the input frame, also takes in nfft as parameter\n",
    "def power_spectrum(frames, nfft):\n",
    "    mag_frames = np.absolute(np.fft.rfft(frames, nfft))  # Magnitude of the FFT\n",
    "    pow_frames = np.square(mag_frames)/nfft  # Power Spectrum\n",
    "    return pow_frames"
   ]
  },
  {
   "cell_type": "code",
   "execution_count": 90,
   "metadata": {},
   "outputs": [],
   "source": [
    "#given the specifications of filter banks, returns the filter banks\n",
    "def generate_filter_bank(fs,num_banks,nfft):\n",
    "    \n",
    "    #conversion from normal scale to mel scale and vice versa\n",
    "    hz_to_mel = lambda x: (2595 * np.log10(1 + (x / 2) / 700))\n",
    "    mel_to_hz = lambda x: (700*(np.power(10, x/2595) - 1))\n",
    "    \n",
    "    lower_mel = 0\n",
    "    upper_mel = hz_to_mel(fs)\n",
    "    mel_points = np.linspace(lower_mel, upper_mel, num_banks + 2)\n",
    "    hz_points = mel_to_hz(mel_points)\n",
    "    bins = np.floor((nfft + 1) * hz_points/fs)\n",
    "    \n",
    "    fbank = np.zeros((num_banks, int(np.floor(nfft/2 + 1))))\n",
    "    for m in range(1, num_banks + 1):\n",
    "        left = int(bins[m - 1])\n",
    "        center = int(bins[m])\n",
    "        right = int(bins[m + 1])\n",
    "        for k in range(left, center):\n",
    "            fbank[m - 1, k] = (k - bins[m - 1])/(bins[m] - bins[m - 1])\n",
    "        for k in range(center, right):\n",
    "            fbank[m - 1, k] = (bins[m + 1] - k)/(bins[m + 1] - bins[m])\n",
    "    return fbank"
   ]
  },
  {
   "cell_type": "code",
   "execution_count": 68,
   "metadata": {},
   "outputs": [],
   "source": [
    "#takes the power spectrum and filter banks as inputs and applies the filter banks to \n",
    "def apply_filter_banks(power_frames,fbank):\n",
    "    filter_banks = np.dot(power_frames, fbank.T)\n",
    "    #for numerical stability\n",
    "    filter_banks = np.where(filter_banks == 0, np.finfo(float).eps, filter_banks) \n",
    "    filter_banks = 20*np.log10(filter_banks)\n",
    "    return filter_banks"
   ]
  },
  {
   "cell_type": "code",
   "execution_count": 69,
   "metadata": {},
   "outputs": [],
   "source": [
    "#performs a direct cosine transform on the input\n",
    "def generate_mfcc(filterBanks,num_ceps):\n",
    "    mfcc = dct(filterBanks, type = 2, axis = 1, norm = 'ortho')[:, 1:(num_ceps + 1)]\n",
    "    return mfcc  "
   ]
  },
  {
   "cell_type": "markdown",
   "metadata": {},
   "source": [
    "#### The function below returns a dataframe containing all file paths and their corresponding label"
   ]
  },
  {
   "cell_type": "code",
   "execution_count": 70,
   "metadata": {},
   "outputs": [],
   "source": [
    "#copmutation of the mfcc of an audio involves six steps. Each function above coreesponds to one of the step.\n",
    "#This function puts everything together and computes the mel coefficients of the audio signal\n",
    "def audio_feature_extraction(audio_path,frameLen,frameOverlap,nfft,num_fbanks,num_ceps):\n",
    "    fs, audio = wav.read(audio_path)\n",
    "    frm,frmlen = generate_audio_frames(fs,audio,frameLen,frameOverlap)\n",
    "    frm = apply_hamming(frm,frmlen)\n",
    "    pow_frm = power_spectrum(frm,nfft)\n",
    "    fbank = generate_filter_bank(fs,num_fbanks,nfft)\n",
    "    filter_banks = apply_filter_banks(pow_frm,fbank)\n",
    "    mfcc = generate_mfcc(filter_banks,num_ceps)\n",
    "    return mfcc"
   ]
  },
  {
   "cell_type": "markdown",
   "metadata": {},
   "source": [
    "#### Testing all the functions"
   ]
  },
  {
   "cell_type": "code",
   "execution_count": 72,
   "metadata": {},
   "outputs": [
    {
     "data": {
      "text/html": [
       "<div>\n",
       "<style scoped>\n",
       "    .dataframe tbody tr th:only-of-type {\n",
       "        vertical-align: middle;\n",
       "    }\n",
       "\n",
       "    .dataframe tbody tr th {\n",
       "        vertical-align: top;\n",
       "    }\n",
       "\n",
       "    .dataframe thead th {\n",
       "        text-align: right;\n",
       "    }\n",
       "</style>\n",
       "<table border=\"1\" class=\"dataframe\">\n",
       "  <thead>\n",
       "    <tr style=\"text-align: right;\">\n",
       "      <th></th>\n",
       "      <th>FILE</th>\n",
       "      <th>OUTPUT</th>\n",
       "    </tr>\n",
       "  </thead>\n",
       "  <tbody>\n",
       "    <tr>\n",
       "      <th>598</th>\n",
       "      <td>dataset/IDR9/18.wav</td>\n",
       "      <td>9</td>\n",
       "    </tr>\n",
       "    <tr>\n",
       "      <th>599</th>\n",
       "      <td>dataset/IDR9/59.wav</td>\n",
       "      <td>9</td>\n",
       "    </tr>\n",
       "    <tr>\n",
       "      <th>600</th>\n",
       "      <td>dataset/IDR9/17.wav</td>\n",
       "      <td>9</td>\n",
       "    </tr>\n",
       "    <tr>\n",
       "      <th>601</th>\n",
       "      <td>dataset/IDR9/35.wav</td>\n",
       "      <td>9</td>\n",
       "    </tr>\n",
       "    <tr>\n",
       "      <th>602</th>\n",
       "      <td>dataset/IDR9/61.wav</td>\n",
       "      <td>9</td>\n",
       "    </tr>\n",
       "  </tbody>\n",
       "</table>\n",
       "</div>"
      ],
      "text/plain": [
       "                    FILE  OUTPUT\n",
       "598  dataset/IDR9/18.wav       9\n",
       "599  dataset/IDR9/59.wav       9\n",
       "600  dataset/IDR9/17.wav       9\n",
       "601  dataset/IDR9/35.wav       9\n",
       "602  dataset/IDR9/61.wav       9"
      ]
     },
     "execution_count": 72,
     "metadata": {},
     "output_type": "execute_result"
    }
   ],
   "source": [
    "dataset = generate_path(dataset_path)\n",
    "dataset.tail()"
   ]
  },
  {
   "cell_type": "code",
   "execution_count": 73,
   "metadata": {},
   "outputs": [],
   "source": [
    "num = 0\n",
    "test = dataset[\"FILE\"][num]\n",
    "mfcc = audio_feature_extraction(test,framelength,frameoverlap,nfft,num_fbanks,num_ceps)"
   ]
  },
  {
   "cell_type": "code",
   "execution_count": 74,
   "metadata": {},
   "outputs": [
    {
     "name": "stdout",
     "output_type": "stream",
     "text": [
      "20\n"
     ]
    },
    {
     "data": {
      "text/plain": [
       "(603, 2)"
      ]
     },
     "execution_count": 74,
     "metadata": {},
     "output_type": "execute_result"
    }
   ],
   "source": [
    "print(len(mfcc[0]))\n",
    "dataset.shape"
   ]
  },
  {
   "cell_type": "markdown",
   "metadata": {},
   "source": [
    "#### The features dictionary contains all the features that we are computing from the mel coefficients"
   ]
  },
  {
   "cell_type": "code",
   "execution_count": 75,
   "metadata": {},
   "outputs": [],
   "source": [
    "features = {\n",
    "    \"mean\" : lambda x: np.mean(x,axis=0),\n",
    "    \"min\" : lambda x: np.min(x,axis=0),\n",
    "    \"max\" : lambda x: np.max(x,axis=0),\n",
    "    \"std_dev\" : lambda x: np.std(x,axis=0),\n",
    "    \"median\" : lambda x: np.median(x,axis=0)\n",
    "}"
   ]
  },
  {
   "cell_type": "markdown",
   "metadata": {},
   "source": [
    "#### The function below takes in a dataframe containing all file paths, computes alll the features specified in the features dictionary and returns a dataframe with all the computed features as columns"
   ]
  },
  {
   "cell_type": "code",
   "execution_count": 76,
   "metadata": {},
   "outputs": [],
   "source": [
    "def generate_model_data(df,size=100):\n",
    "    df = df.sample(frac=1).reset_index(drop=True)\n",
    "    col = []\n",
    "    y = []\n",
    "    for key in features.keys():\n",
    "        for i in range(1,num_ceps+1):\n",
    "            col.append(key + str(i))\n",
    "    rows = []\n",
    "    for index, row in df.iterrows():\n",
    "        if(index<size):\n",
    "            temp = []\n",
    "            y.append(row[\"OUTPUT\"])\n",
    "            path = row[\"FILE\"]\n",
    "            mfcc = audio_feature_extraction(path,framelength,frameoverlap,nfft,num_fbanks,num_ceps)\n",
    "            for key in features.keys():\n",
    "                temp.append(features[key](mfcc))\n",
    "            rows.append(np.concatenate(temp))\n",
    "        else:\n",
    "            break\n",
    "    feat = pd.DataFrame(rows)\n",
    "    feat.columns = col\n",
    "    feat[\"OUTPUT\"] = y\n",
    "    return feat"
   ]
  },
  {
   "cell_type": "code",
   "execution_count": 77,
   "metadata": {},
   "outputs": [],
   "source": [
    "df = generate_model_data(dataset,602)"
   ]
  },
  {
   "cell_type": "code",
   "execution_count": 91,
   "metadata": {},
   "outputs": [
    {
     "data": {
      "text/plain": [
       "(602, 101)"
      ]
     },
     "execution_count": 91,
     "metadata": {},
     "output_type": "execute_result"
    }
   ],
   "source": [
    "# 20 mfcc, 5 features for each feature => 100 columns + 1 output column\n",
    "# 602 rows, each coreesponding to the audio samples\n",
    "df.shape"
   ]
  },
  {
   "cell_type": "code",
   "execution_count": 79,
   "metadata": {
    "scrolled": false
   },
   "outputs": [
    {
     "data": {
      "text/html": [
       "<div>\n",
       "<style scoped>\n",
       "    .dataframe tbody tr th:only-of-type {\n",
       "        vertical-align: middle;\n",
       "    }\n",
       "\n",
       "    .dataframe tbody tr th {\n",
       "        vertical-align: top;\n",
       "    }\n",
       "\n",
       "    .dataframe thead th {\n",
       "        text-align: right;\n",
       "    }\n",
       "</style>\n",
       "<table border=\"1\" class=\"dataframe\">\n",
       "  <thead>\n",
       "    <tr style=\"text-align: right;\">\n",
       "      <th></th>\n",
       "      <th>mean1</th>\n",
       "      <th>mean2</th>\n",
       "      <th>mean3</th>\n",
       "      <th>mean4</th>\n",
       "      <th>mean5</th>\n",
       "      <th>mean6</th>\n",
       "      <th>mean7</th>\n",
       "      <th>mean8</th>\n",
       "      <th>mean9</th>\n",
       "      <th>mean10</th>\n",
       "      <th>...</th>\n",
       "      <th>median12</th>\n",
       "      <th>median13</th>\n",
       "      <th>median14</th>\n",
       "      <th>median15</th>\n",
       "      <th>median16</th>\n",
       "      <th>median17</th>\n",
       "      <th>median18</th>\n",
       "      <th>median19</th>\n",
       "      <th>median20</th>\n",
       "      <th>OUTPUT</th>\n",
       "    </tr>\n",
       "  </thead>\n",
       "  <tbody>\n",
       "    <tr>\n",
       "      <th>0</th>\n",
       "      <td>89.313323</td>\n",
       "      <td>14.612992</td>\n",
       "      <td>11.666629</td>\n",
       "      <td>-7.764394</td>\n",
       "      <td>-9.987186</td>\n",
       "      <td>-16.580497</td>\n",
       "      <td>-4.841163</td>\n",
       "      <td>-17.398501</td>\n",
       "      <td>-8.998086</td>\n",
       "      <td>3.964894</td>\n",
       "      <td>...</td>\n",
       "      <td>-8.635183</td>\n",
       "      <td>-8.498111</td>\n",
       "      <td>-10.567728</td>\n",
       "      <td>3.012781</td>\n",
       "      <td>0.388406</td>\n",
       "      <td>1.834255</td>\n",
       "      <td>-0.119938</td>\n",
       "      <td>2.989324</td>\n",
       "      <td>0.123489</td>\n",
       "      <td>3</td>\n",
       "    </tr>\n",
       "    <tr>\n",
       "      <th>1</th>\n",
       "      <td>88.041630</td>\n",
       "      <td>25.959772</td>\n",
       "      <td>4.988979</td>\n",
       "      <td>-8.332002</td>\n",
       "      <td>-13.384706</td>\n",
       "      <td>-7.125815</td>\n",
       "      <td>-3.545288</td>\n",
       "      <td>-0.123900</td>\n",
       "      <td>-9.479674</td>\n",
       "      <td>-4.940539</td>\n",
       "      <td>...</td>\n",
       "      <td>-2.623595</td>\n",
       "      <td>-0.416227</td>\n",
       "      <td>-3.090419</td>\n",
       "      <td>0.752596</td>\n",
       "      <td>-2.995165</td>\n",
       "      <td>1.311139</td>\n",
       "      <td>0.539260</td>\n",
       "      <td>0.247904</td>\n",
       "      <td>0.464574</td>\n",
       "      <td>7</td>\n",
       "    </tr>\n",
       "    <tr>\n",
       "      <th>2</th>\n",
       "      <td>87.911011</td>\n",
       "      <td>23.997047</td>\n",
       "      <td>19.505510</td>\n",
       "      <td>-3.202250</td>\n",
       "      <td>-0.282769</td>\n",
       "      <td>-8.822193</td>\n",
       "      <td>-5.779405</td>\n",
       "      <td>-5.916174</td>\n",
       "      <td>4.910173</td>\n",
       "      <td>-14.182814</td>\n",
       "      <td>...</td>\n",
       "      <td>-2.543394</td>\n",
       "      <td>-7.312992</td>\n",
       "      <td>-7.072617</td>\n",
       "      <td>-1.119527</td>\n",
       "      <td>-7.283901</td>\n",
       "      <td>1.536644</td>\n",
       "      <td>1.687218</td>\n",
       "      <td>2.312024</td>\n",
       "      <td>4.626798</td>\n",
       "      <td>5</td>\n",
       "    </tr>\n",
       "    <tr>\n",
       "      <th>3</th>\n",
       "      <td>69.327544</td>\n",
       "      <td>6.834665</td>\n",
       "      <td>20.984941</td>\n",
       "      <td>-12.514677</td>\n",
       "      <td>-10.709779</td>\n",
       "      <td>-11.914305</td>\n",
       "      <td>-2.348279</td>\n",
       "      <td>-5.890222</td>\n",
       "      <td>-6.451366</td>\n",
       "      <td>-4.724442</td>\n",
       "      <td>...</td>\n",
       "      <td>-3.608284</td>\n",
       "      <td>-6.235556</td>\n",
       "      <td>-9.213513</td>\n",
       "      <td>-0.878993</td>\n",
       "      <td>1.333194</td>\n",
       "      <td>-0.089229</td>\n",
       "      <td>1.769185</td>\n",
       "      <td>3.531212</td>\n",
       "      <td>1.376352</td>\n",
       "      <td>4</td>\n",
       "    </tr>\n",
       "    <tr>\n",
       "      <th>4</th>\n",
       "      <td>120.582644</td>\n",
       "      <td>44.508502</td>\n",
       "      <td>25.860543</td>\n",
       "      <td>-2.352005</td>\n",
       "      <td>-3.698330</td>\n",
       "      <td>-16.828993</td>\n",
       "      <td>-5.423935</td>\n",
       "      <td>-0.298286</td>\n",
       "      <td>-8.540664</td>\n",
       "      <td>0.696400</td>\n",
       "      <td>...</td>\n",
       "      <td>-9.444540</td>\n",
       "      <td>-8.458205</td>\n",
       "      <td>-5.840018</td>\n",
       "      <td>-1.634109</td>\n",
       "      <td>-0.819113</td>\n",
       "      <td>4.721761</td>\n",
       "      <td>0.509679</td>\n",
       "      <td>3.569527</td>\n",
       "      <td>2.908762</td>\n",
       "      <td>8</td>\n",
       "    </tr>\n",
       "    <tr>\n",
       "      <th>5</th>\n",
       "      <td>79.225491</td>\n",
       "      <td>18.130463</td>\n",
       "      <td>11.721813</td>\n",
       "      <td>-11.794390</td>\n",
       "      <td>-10.605181</td>\n",
       "      <td>-16.687883</td>\n",
       "      <td>-3.946916</td>\n",
       "      <td>-14.901932</td>\n",
       "      <td>-11.383001</td>\n",
       "      <td>3.645581</td>\n",
       "      <td>...</td>\n",
       "      <td>-8.518808</td>\n",
       "      <td>-7.610431</td>\n",
       "      <td>-9.053364</td>\n",
       "      <td>4.591127</td>\n",
       "      <td>1.589165</td>\n",
       "      <td>4.098517</td>\n",
       "      <td>0.582419</td>\n",
       "      <td>4.745498</td>\n",
       "      <td>0.724061</td>\n",
       "      <td>3</td>\n",
       "    </tr>\n",
       "    <tr>\n",
       "      <th>6</th>\n",
       "      <td>77.969959</td>\n",
       "      <td>-6.702051</td>\n",
       "      <td>28.526309</td>\n",
       "      <td>-6.331461</td>\n",
       "      <td>-8.470547</td>\n",
       "      <td>-21.751926</td>\n",
       "      <td>-6.025183</td>\n",
       "      <td>-7.629102</td>\n",
       "      <td>-6.326657</td>\n",
       "      <td>-2.053680</td>\n",
       "      <td>...</td>\n",
       "      <td>-3.021405</td>\n",
       "      <td>3.246912</td>\n",
       "      <td>-11.584258</td>\n",
       "      <td>5.605110</td>\n",
       "      <td>6.331943</td>\n",
       "      <td>5.705472</td>\n",
       "      <td>13.221702</td>\n",
       "      <td>11.270620</td>\n",
       "      <td>11.234639</td>\n",
       "      <td>4</td>\n",
       "    </tr>\n",
       "    <tr>\n",
       "      <th>7</th>\n",
       "      <td>88.618229</td>\n",
       "      <td>29.480320</td>\n",
       "      <td>36.815889</td>\n",
       "      <td>12.802990</td>\n",
       "      <td>1.529110</td>\n",
       "      <td>-8.994410</td>\n",
       "      <td>-4.401200</td>\n",
       "      <td>4.909547</td>\n",
       "      <td>-1.943460</td>\n",
       "      <td>-1.201268</td>\n",
       "      <td>...</td>\n",
       "      <td>-1.169764</td>\n",
       "      <td>-4.444978</td>\n",
       "      <td>-12.792069</td>\n",
       "      <td>-5.060291</td>\n",
       "      <td>-3.027086</td>\n",
       "      <td>-2.074819</td>\n",
       "      <td>-2.011176</td>\n",
       "      <td>1.938262</td>\n",
       "      <td>-7.555507</td>\n",
       "      <td>9</td>\n",
       "    </tr>\n",
       "    <tr>\n",
       "      <th>8</th>\n",
       "      <td>91.955280</td>\n",
       "      <td>3.249618</td>\n",
       "      <td>22.778270</td>\n",
       "      <td>-11.069068</td>\n",
       "      <td>-9.711598</td>\n",
       "      <td>-16.460524</td>\n",
       "      <td>2.669865</td>\n",
       "      <td>-5.072109</td>\n",
       "      <td>-1.113785</td>\n",
       "      <td>2.028257</td>\n",
       "      <td>...</td>\n",
       "      <td>-3.402802</td>\n",
       "      <td>-0.535863</td>\n",
       "      <td>-10.172063</td>\n",
       "      <td>2.482325</td>\n",
       "      <td>9.411161</td>\n",
       "      <td>3.596713</td>\n",
       "      <td>10.361639</td>\n",
       "      <td>4.652741</td>\n",
       "      <td>3.873730</td>\n",
       "      <td>3</td>\n",
       "    </tr>\n",
       "    <tr>\n",
       "      <th>9</th>\n",
       "      <td>120.445296</td>\n",
       "      <td>26.992353</td>\n",
       "      <td>33.023728</td>\n",
       "      <td>8.576957</td>\n",
       "      <td>-8.472673</td>\n",
       "      <td>3.140754</td>\n",
       "      <td>-2.713216</td>\n",
       "      <td>-2.063498</td>\n",
       "      <td>6.129808</td>\n",
       "      <td>-6.792006</td>\n",
       "      <td>...</td>\n",
       "      <td>-0.490344</td>\n",
       "      <td>-6.647603</td>\n",
       "      <td>-2.793360</td>\n",
       "      <td>-4.230253</td>\n",
       "      <td>-6.248681</td>\n",
       "      <td>0.229128</td>\n",
       "      <td>-4.879828</td>\n",
       "      <td>-1.437787</td>\n",
       "      <td>-1.871749</td>\n",
       "      <td>1</td>\n",
       "    </tr>\n",
       "  </tbody>\n",
       "</table>\n",
       "<p>10 rows × 101 columns</p>\n",
       "</div>"
      ],
      "text/plain": [
       "        mean1      mean2      mean3      mean4      mean5      mean6  \\\n",
       "0   89.313323  14.612992  11.666629  -7.764394  -9.987186 -16.580497   \n",
       "1   88.041630  25.959772   4.988979  -8.332002 -13.384706  -7.125815   \n",
       "2   87.911011  23.997047  19.505510  -3.202250  -0.282769  -8.822193   \n",
       "3   69.327544   6.834665  20.984941 -12.514677 -10.709779 -11.914305   \n",
       "4  120.582644  44.508502  25.860543  -2.352005  -3.698330 -16.828993   \n",
       "5   79.225491  18.130463  11.721813 -11.794390 -10.605181 -16.687883   \n",
       "6   77.969959  -6.702051  28.526309  -6.331461  -8.470547 -21.751926   \n",
       "7   88.618229  29.480320  36.815889  12.802990   1.529110  -8.994410   \n",
       "8   91.955280   3.249618  22.778270 -11.069068  -9.711598 -16.460524   \n",
       "9  120.445296  26.992353  33.023728   8.576957  -8.472673   3.140754   \n",
       "\n",
       "      mean7      mean8      mean9     mean10  ...  median12  median13  \\\n",
       "0 -4.841163 -17.398501  -8.998086   3.964894  ... -8.635183 -8.498111   \n",
       "1 -3.545288  -0.123900  -9.479674  -4.940539  ... -2.623595 -0.416227   \n",
       "2 -5.779405  -5.916174   4.910173 -14.182814  ... -2.543394 -7.312992   \n",
       "3 -2.348279  -5.890222  -6.451366  -4.724442  ... -3.608284 -6.235556   \n",
       "4 -5.423935  -0.298286  -8.540664   0.696400  ... -9.444540 -8.458205   \n",
       "5 -3.946916 -14.901932 -11.383001   3.645581  ... -8.518808 -7.610431   \n",
       "6 -6.025183  -7.629102  -6.326657  -2.053680  ... -3.021405  3.246912   \n",
       "7 -4.401200   4.909547  -1.943460  -1.201268  ... -1.169764 -4.444978   \n",
       "8  2.669865  -5.072109  -1.113785   2.028257  ... -3.402802 -0.535863   \n",
       "9 -2.713216  -2.063498   6.129808  -6.792006  ... -0.490344 -6.647603   \n",
       "\n",
       "    median14  median15  median16  median17   median18   median19   median20  \\\n",
       "0 -10.567728  3.012781  0.388406  1.834255  -0.119938   2.989324   0.123489   \n",
       "1  -3.090419  0.752596 -2.995165  1.311139   0.539260   0.247904   0.464574   \n",
       "2  -7.072617 -1.119527 -7.283901  1.536644   1.687218   2.312024   4.626798   \n",
       "3  -9.213513 -0.878993  1.333194 -0.089229   1.769185   3.531212   1.376352   \n",
       "4  -5.840018 -1.634109 -0.819113  4.721761   0.509679   3.569527   2.908762   \n",
       "5  -9.053364  4.591127  1.589165  4.098517   0.582419   4.745498   0.724061   \n",
       "6 -11.584258  5.605110  6.331943  5.705472  13.221702  11.270620  11.234639   \n",
       "7 -12.792069 -5.060291 -3.027086 -2.074819  -2.011176   1.938262  -7.555507   \n",
       "8 -10.172063  2.482325  9.411161  3.596713  10.361639   4.652741   3.873730   \n",
       "9  -2.793360 -4.230253 -6.248681  0.229128  -4.879828  -1.437787  -1.871749   \n",
       "\n",
       "   OUTPUT  \n",
       "0       3  \n",
       "1       7  \n",
       "2       5  \n",
       "3       4  \n",
       "4       8  \n",
       "5       3  \n",
       "6       4  \n",
       "7       9  \n",
       "8       3  \n",
       "9       1  \n",
       "\n",
       "[10 rows x 101 columns]"
      ]
     },
     "execution_count": 79,
     "metadata": {},
     "output_type": "execute_result"
    }
   ],
   "source": [
    "df.head(10)"
   ]
  },
  {
   "cell_type": "markdown",
   "metadata": {},
   "source": [
    "#### Splitting the dataset for train and test"
   ]
  },
  {
   "cell_type": "code",
   "execution_count": 80,
   "metadata": {},
   "outputs": [],
   "source": [
    "data_train, data_test = train_test_split(df, test_size=0.3, shuffle=True)\n",
    "x_train = data_train.drop(data_train[['OUTPUT']],axis=1)\n",
    "y_train = data_train[['OUTPUT']]\n",
    "\n",
    "x_test = data_test.drop(data_test[['OUTPUT']],axis=1)\n",
    "y_test = data_test[['OUTPUT']]"
   ]
  },
  {
   "cell_type": "markdown",
   "metadata": {},
   "source": [
    "#### Standardizing all the values"
   ]
  },
  {
   "cell_type": "code",
   "execution_count": 92,
   "metadata": {},
   "outputs": [],
   "source": [
    "scaler = StandardScaler()\n",
    "scaler.fit(x_train)\n",
    "x_train = scaler.transform(x_train)\n",
    "x_test = scaler.transform(x_test)"
   ]
  },
  {
   "cell_type": "markdown",
   "metadata": {},
   "source": [
    "### Support Vector Machine"
   ]
  },
  {
   "cell_type": "code",
   "execution_count": 81,
   "metadata": {},
   "outputs": [
    {
     "name": "stderr",
     "output_type": "stream",
     "text": [
      "/usr/local/lib/python3.6/dist-packages/sklearn/utils/validation.py:724: DataConversionWarning: A column-vector y was passed when a 1d array was expected. Please change the shape of y to (n_samples, ), for example using ravel().\n",
      "  y = column_or_1d(y, warn=True)\n"
     ]
    },
    {
     "data": {
      "text/plain": [
       "0.9723756906077348"
      ]
     },
     "execution_count": 81,
     "metadata": {},
     "output_type": "execute_result"
    }
   ],
   "source": [
    "clf = SVC(gamma='auto', kernel='linear')\n",
    "clf.fit(x_train, y_train)\n",
    "\n",
    "y_pred = clf.predict(x_test)\n",
    "clf.score(x_test, y_test)"
   ]
  },
  {
   "cell_type": "code",
   "execution_count": 82,
   "metadata": {},
   "outputs": [
    {
     "name": "stdout",
     "output_type": "stream",
     "text": [
      "[[22  0  0  0  0  0  0  0  0]\n",
      " [ 1 17  0  0  0  0  1  0  0]\n",
      " [ 0  1 25  0  0  0  0  0  0]\n",
      " [ 0  0  0 26  0  0  0  0  0]\n",
      " [ 0  0  0  0 19  0  0  0  0]\n",
      " [ 0  0  0  0  0 20  0  0  0]\n",
      " [ 0  0  0  0  1  0 13  0  0]\n",
      " [ 0  0  0  0  0  0  1 16  0]\n",
      " [ 0  0  0  0  0  0  0  0 18]]\n"
     ]
    },
    {
     "data": {
      "text/plain": [
       "[Text(0, 0, ''),\n",
       " Text(0, 0, 'dialect_1'),\n",
       " Text(0, 0, 'dialect_2'),\n",
       " Text(0, 0, 'dialect_3'),\n",
       " Text(0, 0, 'dialect_4'),\n",
       " Text(0, 0, 'dialect_5'),\n",
       " Text(0, 0, 'dialect_6'),\n",
       " Text(0, 0, 'dialect_7'),\n",
       " Text(0, 0, 'dialect_8'),\n",
       " Text(0, 0, 'dialect_9')]"
      ]
     },
     "execution_count": 82,
     "metadata": {},
     "output_type": "execute_result"
    },
    {
     "data": {
      "image/png": "[encoded data removed]",
      "text/plain": [
       "<Figure size 720x720 with 2 Axes>"
      ]
     },
     "metadata": {},
     "output_type": "display_data"
    }
   ],
   "source": [
    "cm = confusion_matrix(y_test, y_pred)\n",
    "print(cm)\n",
    "dialects = ['dialect_1', 'dialect_2', 'dialect_3', 'dialect_4', 'dialect_5', 'dialect_6', 'dialect_7', 'dialect_8', 'dialect_9']\n",
    "fig = plt.figure(figsize=(10, 10))\n",
    "ax = fig.add_subplot(111)\n",
    "cax = ax.matshow(cm, interpolation='nearest', cmap=plt.cm.Blues)\n",
    "fig.colorbar(cax)\n",
    "ax.set_xticklabels([\"\"] + dialects)\n",
    "ax.set_yticklabels([\"\"] + dialects)\n"
   ]
  },
  {
   "cell_type": "markdown",
   "metadata": {},
   "source": [
    "### Logistic Regression"
   ]
  },
  {
   "cell_type": "code",
   "execution_count": 83,
   "metadata": {},
   "outputs": [
    {
     "name": "stderr",
     "output_type": "stream",
     "text": [
      "/usr/local/lib/python3.6/dist-packages/sklearn/utils/validation.py:724: DataConversionWarning: A column-vector y was passed when a 1d array was expected. Please change the shape of y to (n_samples, ), for example using ravel().\n",
      "  y = column_or_1d(y, warn=True)\n",
      "/usr/local/lib/python3.6/dist-packages/sklearn/linear_model/logistic.py:469: FutureWarning: Default multi_class will be changed to 'auto' in 0.22. Specify the multi_class option to silence this warning.\n",
      "  \"this warning.\", FutureWarning)\n"
     ]
    },
    {
     "data": {
      "text/plain": [
       "0.9392265193370166"
      ]
     },
     "execution_count": 83,
     "metadata": {},
     "output_type": "execute_result"
    }
   ],
   "source": [
    "lr = LogisticRegression(solver='lbfgs')\n",
    "lr.fit(x_train, y_train)\n",
    "y_pred = lr.predict(x_test)\n",
    "lr.score(x_test, y_test)"
   ]
  },
  {
   "cell_type": "code",
   "execution_count": 84,
   "metadata": {},
   "outputs": [
    {
     "name": "stdout",
     "output_type": "stream",
     "text": [
      "[[22  0  0  0  0  0  0  0  0]\n",
      " [ 0 14  3  0  1  0  1  0  0]\n",
      " [ 0  0 24  0  1  0  0  1  0]\n",
      " [ 0  0  0 26  0  0  0  0  0]\n",
      " [ 0  0  1  0 18  0  0  0  0]\n",
      " [ 0  0  0  1  0 19  0  0  0]\n",
      " [ 0  0  0  0  0  0 14  0  0]\n",
      " [ 0  0  0  0  1  0  0 16  0]\n",
      " [ 0  0  0  0  0  0  0  1 17]]\n"
     ]
    },
    {
     "data": {
      "text/plain": [
       "[Text(0, 0, ''),\n",
       " Text(0, 0, 'dialect_1'),\n",
       " Text(0, 0, 'dialect_2'),\n",
       " Text(0, 0, 'dialect_3'),\n",
       " Text(0, 0, 'dialect_4'),\n",
       " Text(0, 0, 'dialect_5'),\n",
       " Text(0, 0, 'dialect_6'),\n",
       " Text(0, 0, 'dialect_7'),\n",
       " Text(0, 0, 'dialect_8'),\n",
       " Text(0, 0, 'dialect_9')]"
      ]
     },
     "execution_count": 84,
     "metadata": {},
     "output_type": "execute_result"
    },
    {
     "data": {
      "image/png": "[encoded data removed]",
      "text/plain": [
       "<Figure size 720x720 with 2 Axes>"
      ]
     },
     "metadata": {},
     "output_type": "display_data"
    }
   ],
   "source": [
    "cm = confusion_matrix(y_test, y_pred)\n",
    "print(cm)\n",
    "dialects = ['dialect_1', 'dialect_2', 'dialect_3', 'dialect_4', 'dialect_5', 'dialect_6', 'dialect_7', 'dialect_8', 'dialect_9']\n",
    "fig = plt.figure(figsize=(10, 10))\n",
    "ax = fig.add_subplot(111)\n",
    "cax = ax.matshow(cm, interpolation='nearest', cmap=plt.cm.Blues)\n",
    "fig.colorbar(cax)\n",
    "ax.set_xticklabels([\"\"] + dialects)\n",
    "ax.set_yticklabels([\"\"] + dialects)\n"
   ]
  },
  {
   "cell_type": "markdown",
   "metadata": {},
   "source": [
    "### K-Nearest Neighbours, k=5"
   ]
  },
  {
   "cell_type": "code",
   "execution_count": 85,
   "metadata": {},
   "outputs": [
    {
     "name": "stderr",
     "output_type": "stream",
     "text": [
      "/usr/local/lib/python3.6/dist-packages/ipykernel_launcher.py:2: DataConversionWarning: A column-vector y was passed when a 1d array was expected. Please change the shape of y to (n_samples, ), for example using ravel().\n",
      "  \n"
     ]
    },
    {
     "data": {
      "text/plain": [
       "0.9723756906077348"
      ]
     },
     "execution_count": 85,
     "metadata": {},
     "output_type": "execute_result"
    }
   ],
   "source": [
    "knn = KNeighborsClassifier(n_neighbors=5, metric='euclidean')\n",
    "knn.fit(x_train, y_train)\n",
    "y_pred = knn.predict(x_test)\n",
    "knn.score(x_test, y_test)"
   ]
  },
  {
   "cell_type": "code",
   "execution_count": 86,
   "metadata": {},
   "outputs": [
    {
     "name": "stdout",
     "output_type": "stream",
     "text": [
      "[[22  0  0  0  0  0  0  0  0]\n",
      " [ 0 19  0  0  0  0  0  0  0]\n",
      " [ 0  1 25  0  0  0  0  0  0]\n",
      " [ 0  0  0 26  0  0  0  0  0]\n",
      " [ 0  0  0  0 19  0  0  0  0]\n",
      " [ 0  0  0  1  0 19  0  0  0]\n",
      " [ 0  0  0  0  1  0 13  0  0]\n",
      " [ 0  0  0  0  0  1  1 15  0]\n",
      " [ 0  0  0  0  0  0  0  0 18]]\n"
     ]
    },
    {
     "data": {
      "text/plain": [
       "[Text(0, 0, ''),\n",
       " Text(0, 0, 'dialect_1'),\n",
       " Text(0, 0, 'dialect_2'),\n",
       " Text(0, 0, 'dialect_3'),\n",
       " Text(0, 0, 'dialect_4'),\n",
       " Text(0, 0, 'dialect_5'),\n",
       " Text(0, 0, 'dialect_6'),\n",
       " Text(0, 0, 'dialect_7'),\n",
       " Text(0, 0, 'dialect_8'),\n",
       " Text(0, 0, 'dialect_9')]"
      ]
     },
     "execution_count": 86,
     "metadata": {},
     "output_type": "execute_result"
    },
    {
     "data": {
      "image/png": "[encoded data removed]",
      "text/plain": [
       "<Figure size 720x720 with 2 Axes>"
      ]
     },
     "metadata": {},
     "output_type": "display_data"
    }
   ],
   "source": [
    "cm = confusion_matrix(y_test, y_pred)\n",
    "print(cm)\n",
    "dialects = ['dialect_1', 'dialect_2', 'dialect_3', 'dialect_4', 'dialect_5', 'dialect_6', 'dialect_7', 'dialect_8', 'dialect_9']\n",
    "fig = plt.figure(figsize=(10, 10))\n",
    "ax = fig.add_subplot(111)\n",
    "cax = ax.matshow(cm, interpolation='nearest', cmap=plt.cm.Blues)\n",
    "fig.colorbar(cax)\n",
    "ax.set_xticklabels([\"\"] + dialects)\n",
    "ax.set_yticklabels([\"\"] + dialects)\n"
   ]
  },
  {
   "cell_type": "markdown",
   "metadata": {},
   "source": [
    "### K-Nearest Neighbours, k=3"
   ]
  },
  {
   "cell_type": "code",
   "execution_count": 87,
   "metadata": {},
   "outputs": [
    {
     "name": "stderr",
     "output_type": "stream",
     "text": [
      "/usr/local/lib/python3.6/dist-packages/ipykernel_launcher.py:2: DataConversionWarning: A column-vector y was passed when a 1d array was expected. Please change the shape of y to (n_samples, ), for example using ravel().\n",
      "  \n"
     ]
    },
    {
     "data": {
      "text/plain": [
       "0.988950276243094"
      ]
     },
     "execution_count": 87,
     "metadata": {},
     "output_type": "execute_result"
    }
   ],
   "source": [
    "knn = KNeighborsClassifier(n_neighbors=3, metric='euclidean')\n",
    "knn.fit(x_train, y_train)\n",
    "knn.score(x_test, y_test)"
   ]
  },
  {
   "cell_type": "code",
   "execution_count": 88,
   "metadata": {},
   "outputs": [
    {
     "name": "stdout",
     "output_type": "stream",
     "text": [
      "[[22  0  0  0  0  0  0  0  0]\n",
      " [ 0 19  0  0  0  0  0  0  0]\n",
      " [ 0  1 25  0  0  0  0  0  0]\n",
      " [ 0  0  0 26  0  0  0  0  0]\n",
      " [ 0  0  0  0 19  0  0  0  0]\n",
      " [ 0  0  0  1  0 19  0  0  0]\n",
      " [ 0  0  0  0  1  0 13  0  0]\n",
      " [ 0  0  0  0  0  1  1 15  0]\n",
      " [ 0  0  0  0  0  0  0  0 18]]\n"
     ]
    },
    {
     "data": {
      "text/plain": [
       "[Text(0, 0, ''),\n",
       " Text(0, 0, 'dialect_1'),\n",
       " Text(0, 0, 'dialect_2'),\n",
       " Text(0, 0, 'dialect_3'),\n",
       " Text(0, 0, 'dialect_4'),\n",
       " Text(0, 0, 'dialect_5'),\n",
       " Text(0, 0, 'dialect_6'),\n",
       " Text(0, 0, 'dialect_7'),\n",
       " Text(0, 0, 'dialect_8'),\n",
       " Text(0, 0, 'dialect_9')]"
      ]
     },
     "execution_count": 88,
     "metadata": {},
     "output_type": "execute_result"
    },
    {
     "data": {
      "image/png": "[encoded data removed]",
      "text/plain": [
       "<Figure size 720x720 with 2 Axes>"
      ]
     },
     "metadata": {},
     "output_type": "display_data"
    }
   ],
   "source": [
    "cm = confusion_matrix(y_test, y_pred)\n",
    "print(cm)\n",
    "dialects = ['dialect_1', 'dialect_2', 'dialect_3', 'dialect_4', 'dialect_5', 'dialect_6', 'dialect_7', 'dialect_8', 'dialect_9']\n",
    "fig = plt.figure(figsize=(10, 10))\n",
    "ax = fig.add_subplot(111)\n",
    "cax = ax.matshow(cm, interpolation='nearest', cmap=plt.cm.Blues)\n",
    "fig.colorbar(cax)\n",
    "ax.set_xticklabels([\"\"] + dialects)\n",
    "ax.set_yticklabels([\"\"] + dialects)\n"
   ]
  }
 ],
 "metadata": {
  "kernelspec": {
   "display_name": "Python 3",
   "language": "python",
   "name": "python3"
  },
  "language_info": {
   "codemirror_mode": {
    "name": "ipython",
    "version": 3
   },
   "file_extension": ".py",
   "mimetype": "text/x-python",
   "name": "python",
   "nbconvert_exporter": "python",
   "pygments_lexer": "ipython3",
   "version": "3.6.8"
  }
 },
 "nbformat": 4,
 "nbformat_minor": 2
}
